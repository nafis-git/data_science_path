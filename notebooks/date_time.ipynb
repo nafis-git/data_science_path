{
  "nbformat": 4,
  "nbformat_minor": 0,
  "metadata": {
    "colab": {
      "provenance": [],
      "authorship_tag": "ABX9TyNpFBACp5PxOXM3xyRoKIt2",
      "include_colab_link": true
    },
    "kernelspec": {
      "name": "python3",
      "display_name": "Python 3"
    },
    "language_info": {
      "name": "python"
    }
  },
  "cells": [
    {
      "cell_type": "markdown",
      "metadata": {
        "id": "view-in-github",
        "colab_type": "text"
      },
      "source": [
        "<a href=\"https://colab.research.google.com/github/nafis-git/data_science_path/blob/main/notebooks/date_time.ipynb\" target=\"_parent\"><img src=\"https://colab.research.google.com/assets/colab-badge.svg\" alt=\"Open In Colab\"/></a>"
      ]
    },
    {
      "cell_type": "code",
      "source": [
        "import pandas as pd\n",
        "import numpy as np\n",
        "import matplotlib.pyplot as plt"
      ],
      "metadata": {
        "id": "i3fLMyy7_oqO"
      },
      "execution_count": null,
      "outputs": []
    },
    {
      "cell_type": "markdown",
      "source": [
        "### Creating date objects\n",
        "\n",
        "\n",
        "```\n",
        "# Import date from datetime\n",
        "from datetime import date\n",
        "\n",
        "# Create a date object\n",
        "hurricane_andrew = date(1992,8,24)\n",
        "```\n",
        "Weekdays in Python:  \n",
        "0 = Monday  \n",
        "1 = Tuesday  \n",
        "2 = Wednesday  \n",
        "...  \n",
        "6 = Sunday\n"
      ],
      "metadata": {
        "id": "OO2eko8xLLqH"
      }
    },
    {
      "cell_type": "code",
      "execution_count": null,
      "metadata": {
        "id": "9VDAU_s6-x6m",
        "colab": {
          "base_uri": "https://localhost:8080/"
        },
        "outputId": "4ebdbf18-e0b7-44d1-ee03-bb4928285a3f"
      },
      "outputs": [
        {
          "output_type": "stream",
          "name": "stdout",
          "text": [
            "0\n"
          ]
        }
      ],
      "source": [
        "# Import date from datetime\n",
        "from datetime import date\n",
        "\n",
        "# Create a date object\n",
        "hurricane_andrew = date(1992, 8, 24)\n",
        "\n",
        "# Which day of the week is the date?\n",
        "print(hurricane_andrew.weekday())"
      ]
    },
    {
      "cell_type": "markdown",
      "source": [
        "### Math with dates\n",
        "just like numbers we can do subtraction and summation with dates provided that they are date object\n",
        "### timedelta\n",
        "import timedelta from datetime"
      ],
      "metadata": {
        "id": "fheNdFw8MgJw"
      }
    },
    {
      "cell_type": "code",
      "source": [
        "# Import date\n",
        "from datetime import date\n",
        "# Create our dates\n",
        "d1 = date(2017, 11, 5)\n",
        "d2 = date(2017, 12, 4)\n",
        "l = [d1, d2]\n",
        "print(d2-d1)\n"
      ],
      "metadata": {
        "colab": {
          "base_uri": "https://localhost:8080/"
        },
        "id": "B_cpeYnr_lOp",
        "outputId": "326bed91-035c-4194-a026-b4b86cccad98"
      },
      "execution_count": null,
      "outputs": [
        {
          "output_type": "stream",
          "name": "stdout",
          "text": [
            "29 days, 0:00:00\n"
          ]
        }
      ]
    },
    {
      "cell_type": "code",
      "source": [
        "from datetime import timedelta\n",
        "td = timedelta(days = 29)\n",
        "print(d1+td)"
      ],
      "metadata": {
        "colab": {
          "base_uri": "https://localhost:8080/"
        },
        "id": "HP10pcq9AfW2",
        "outputId": "2c39aec8-3526-4467-8a0c-34cad36e7391"
      },
      "execution_count": null,
      "outputs": [
        {
          "output_type": "stream",
          "name": "stdout",
          "text": [
            "2017-12-04\n"
          ]
        }
      ]
    },
    {
      "cell_type": "code",
      "source": [
        "# Import date\n",
        "from datetime import date\n",
        "\n",
        "# Create a date object for May 9th, 2007\n",
        "start = date(2007, 5, 9)\n",
        "\n",
        "# Create a date object for December 13th, 2007\n",
        "end = date(2007, 12, 13)\n",
        "\n",
        "# Subtract the two dates and print the number of days\n",
        "print((end - start).days)"
      ],
      "metadata": {
        "colab": {
          "base_uri": "https://localhost:8080/"
        },
        "id": "PxonR6kAAmHD",
        "outputId": "d2e90dc6-180d-4319-c698-41c109b0c352"
      },
      "execution_count": null,
      "outputs": [
        {
          "output_type": "stream",
          "name": "stdout",
          "text": [
            "218\n"
          ]
        }
      ]
    },
    {
      "cell_type": "code",
      "source": [
        "dates = pd.read_pickle('https://raw.githubusercontent.com/nafis-git/data_science_path/main/data/florida_hurricane_dates.pkl')"
      ],
      "metadata": {
        "id": "_BeceaLdAzfe"
      },
      "execution_count": null,
      "outputs": []
    },
    {
      "cell_type": "code",
      "source": [
        "dates[:2]"
      ],
      "metadata": {
        "colab": {
          "base_uri": "https://localhost:8080/"
        },
        "id": "8pq9YRayCBXs",
        "outputId": "3691148c-ed87-46f3-8d7f-ce7cffa2a7ba"
      },
      "execution_count": null,
      "outputs": [
        {
          "output_type": "execute_result",
          "data": {
            "text/plain": [
              "[datetime.date(1988, 8, 4), datetime.date(1990, 10, 12)]"
            ]
          },
          "metadata": {},
          "execution_count": 45
        }
      ]
    },
    {
      "cell_type": "code",
      "source": [
        "#Using florida_hurricane_dates, let's see how hurricanes in Florida were distributed across months throughout the year.\n",
        "month_count = dict(zip(np.arange(1,13), [0]*12))\n",
        "month_count"
      ],
      "metadata": {
        "colab": {
          "base_uri": "https://localhost:8080/"
        },
        "id": "EDuW8CWmCMVK",
        "outputId": "4ce225a9-0ee1-43e8-90e4-cef390ae9ddb"
      },
      "execution_count": null,
      "outputs": [
        {
          "output_type": "execute_result",
          "data": {
            "text/plain": [
              "{1: 0, 2: 0, 3: 0, 4: 0, 5: 0, 6: 0, 7: 0, 8: 0, 9: 0, 10: 0, 11: 0, 12: 0}"
            ]
          },
          "metadata": {},
          "execution_count": 49
        }
      ]
    },
    {
      "cell_type": "code",
      "source": [
        "for d in dates:\n",
        "  hurrican_month = d.month\n",
        "  month_count[hurrican_month] += 1"
      ],
      "metadata": {
        "id": "V9F4v1_ZCVgi"
      },
      "execution_count": null,
      "outputs": []
    },
    {
      "cell_type": "code",
      "source": [
        "plt.bar(month_count.keys(), month_count.values())"
      ],
      "metadata": {
        "colab": {
          "base_uri": "https://localhost:8080/",
          "height": 447
        },
        "id": "ksE_pc5sCsH1",
        "outputId": "db8aa60a-9012-4e79-b15c-e8868c8cd3a4"
      },
      "execution_count": null,
      "outputs": [
        {
          "output_type": "execute_result",
          "data": {
            "text/plain": [
              "<BarContainer object of 12 artists>"
            ]
          },
          "metadata": {},
          "execution_count": 61
        },
        {
          "output_type": "display_data",
          "data": {
            "text/plain": [
              "<Figure size 640x480 with 1 Axes>"
            ],
            "image/png": "[encoded data removed]"
          },
          "metadata": {}
        }
      ]
    },
    {
      "cell_type": "markdown",
      "source": [
        "## date object\n",
        ">date formatting  \n",
        "ISO 8601 format (YYYY-MM-DD) it is default format of date object   \n",
        "- ISO 8601 dates can be sort correctly\n",
        "\n",
        ">### other formats:\n",
        "strftime()   \n",
        "`dateobject.strftiem(format= 'desired format)`"
      ],
      "metadata": {
        "id": "boVEx3n6sE5-"
      }
    },
    {
      "cell_type": "code",
      "source": [
        "from datetime import date\n",
        "d = date(2003,3,12)\n",
        "d\n"
      ],
      "metadata": {
        "colab": {
          "base_uri": "https://localhost:8080/"
        },
        "id": "1T5qLg3sCtmu",
        "outputId": "c3bdddaa-e91a-44f2-9755-ba9fc9cda266"
      },
      "execution_count": null,
      "outputs": [
        {
          "output_type": "execute_result",
          "data": {
            "text/plain": [
              "datetime.date(2003, 3, 12)"
            ]
          },
          "metadata": {},
          "execution_count": 70
        }
      ]
    },
    {
      "cell_type": "code",
      "source": [
        "# extract in iso 8601 format as string\n",
        "print([d.isoformat()])"
      ],
      "metadata": {
        "colab": {
          "base_uri": "https://localhost:8080/"
        },
        "id": "3vEmho_1DTmU",
        "outputId": "6bb5a93e-dfe9-4185-893e-a680b03e01aa"
      },
      "execution_count": null,
      "outputs": [
        {
          "output_type": "stream",
          "name": "stdout",
          "text": [
            "['2003-03-12']\n"
          ]
        }
      ]
    },
    {
      "cell_type": "code",
      "source": [
        "d.strftime('\"%Y')"
      ],
      "metadata": {
        "colab": {
          "base_uri": "https://localhost:8080/",
          "height": 35
        },
        "id": "pr9OAAlmDpjk",
        "outputId": "9cceecc2-56b0-426b-b1d8-eec60888fa99"
      },
      "execution_count": null,
      "outputs": [
        {
          "output_type": "execute_result",
          "data": {
            "text/plain": [
              "'\"2003'"
            ],
            "application/vnd.google.colaboratory.intrinsic+json": {
              "type": "string"
            }
          },
          "metadata": {},
          "execution_count": 74
        }
      ]
    },
    {
      "cell_type": "code",
      "source": [
        "d.strftime(\"Year is %Y\")"
      ],
      "metadata": {
        "colab": {
          "base_uri": "https://localhost:8080/",
          "height": 35
        },
        "id": "b4ekNX27DWRH",
        "outputId": "d556e43b-1b5e-459f-91eb-3755acc82930"
      },
      "execution_count": null,
      "outputs": [
        {
          "output_type": "execute_result",
          "data": {
            "text/plain": [
              "'Year is 2003'"
            ],
            "application/vnd.google.colaboratory.intrinsic+json": {
              "type": "string"
            }
          },
          "metadata": {},
          "execution_count": 75
        }
      ]
    },
    {
      "cell_type": "code",
      "source": [
        "# Import date\n",
        "from datetime import date\n",
        "\n",
        "# Create a date object\n",
        "andrew = date(1992, 8, 26)\n",
        "\n",
        "# Print the date in the format 'YYYY-MM'\n",
        "print(andrew.strftime('%Y-%m'))"
      ],
      "metadata": {
        "colab": {
          "base_uri": "https://localhost:8080/"
        },
        "id": "uvFg2bEIEYZk",
        "outputId": "5d07d5f0-1d9a-44c6-8c18-1e4be3fb7caa"
      },
      "execution_count": null,
      "outputs": [
        {
          "output_type": "stream",
          "name": "stdout",
          "text": [
            "1992-08\n"
          ]
        }
      ]
    },
    {
      "cell_type": "code",
      "source": [
        "# Import date\n",
        "from datetime import date\n",
        "\n",
        "# Create a date object\n",
        "andrew = date(1992, 8, 26)\n",
        "\n",
        "# Print the date in the format 'MONTH (YYYY)'\n",
        "andrew.strftime('%B (%Y)')"
      ],
      "metadata": {
        "colab": {
          "base_uri": "https://localhost:8080/",
          "height": 35
        },
        "id": "-OjbIG2nEmT9",
        "outputId": "51a745fa-9593-4cf6-acf9-48c7af80f671"
      },
      "execution_count": null,
      "outputs": [
        {
          "output_type": "execute_result",
          "data": {
            "text/plain": [
              "'August (1992)'"
            ],
            "application/vnd.google.colaboratory.intrinsic+json": {
              "type": "string"
            }
          },
          "metadata": {},
          "execution_count": 77
        }
      ]
    },
    {
      "cell_type": "code",
      "source": [
        "#Print andrew in the format 'YYYY-DDD' (where DDD is the day of the year) using %j.\n",
        "andrew.strftime('%Y-%j')"
      ],
      "metadata": {
        "colab": {
          "base_uri": "https://localhost:8080/",
          "height": 35
        },
        "id": "PfkgvN3D8SoF",
        "outputId": "bd993dea-5d89-4abc-91b6-022b14634412"
      },
      "execution_count": null,
      "outputs": [
        {
          "output_type": "execute_result",
          "data": {
            "text/plain": [
              "'1992-239'"
            ],
            "application/vnd.google.colaboratory.intrinsic+json": {
              "type": "string"
            }
          },
          "metadata": {},
          "execution_count": 79
        }
      ]
    },
    {
      "cell_type": "markdown",
      "source": [
        "### datetime object\n",
        "from datetime import datetime\n",
        "\n",
        "datetime(year, month, day, hour, minutes, seconds, miliseceonds)\n",
        "\n",
        "### using replace method\n",
        "dt.replace( the changes you wish)"
      ],
      "metadata": {
        "id": "q1m1ZotT9TNU"
      }
    },
    {
      "cell_type": "code",
      "source": [
        "# Import datetime\n",
        "from datetime import datetime\n",
        "\n",
        "# Create a datetime object\n",
        "dt = datetime(2017, 10, 1, 15, 26, 26)\n",
        "\n",
        "# Print the results in ISO 8601 format\n",
        "print(dt.isoformat())"
      ],
      "metadata": {
        "colab": {
          "base_uri": "https://localhost:8080/"
        },
        "id": "6OiGzV8E8g0F",
        "outputId": "7be5c41c-f9ad-4110-c6b1-43719fd5f32b"
      },
      "execution_count": null,
      "outputs": [
        {
          "output_type": "stream",
          "name": "stdout",
          "text": [
            "2017-10-01T15:26:26\n"
          ]
        }
      ]
    },
    {
      "cell_type": "code",
      "source": [
        "# Import datetime\n",
        "from datetime import datetime\n",
        "\n",
        "# Create a datetime object\n",
        "dt = datetime(2017,12,31,15,19,13)\n",
        "\n",
        "# Print the results in ISO 8601 format\n",
        "print(dt.isoformat())"
      ],
      "metadata": {
        "colab": {
          "base_uri": "https://localhost:8080/"
        },
        "id": "ArrtM6riVvTH",
        "outputId": "258f6c01-bf9c-40e5-87d7-d2bbf1ea5090"
      },
      "execution_count": null,
      "outputs": [
        {
          "output_type": "stream",
          "name": "stdout",
          "text": [
            "2017-12-31T15:19:13\n"
          ]
        }
      ]
    },
    {
      "cell_type": "code",
      "source": [
        "# Import datetime\n",
        "from datetime import datetime\n",
        "\n",
        "# Create a datetime object\n",
        "dt = datetime(2017, 12, 31, 15, 19, 13)\n",
        "\n",
        "# Replace the year with 1917\n",
        "dt_old = dt.replace(year = 1917)\n",
        "\n",
        "# Print the results in ISO 8601 format\n",
        "print(dt_old)"
      ],
      "metadata": {
        "colab": {
          "base_uri": "https://localhost:8080/"
        },
        "id": "jWzPXixTVyqN",
        "outputId": "3810dec2-3a41-4b7b-ad35-65eb35a04929"
      },
      "execution_count": null,
      "outputs": [
        {
          "output_type": "stream",
          "name": "stdout",
          "text": [
            "1917-12-31 15:19:13\n"
          ]
        }
      ]
    },
    {
      "cell_type": "code",
      "source": [
        "onebike_datetimes = pd.read_csv('https://raw.githubusercontent.com/nafis-git/data_science_path/main/data/capital-onebike.csv',\n",
        "            parse_dates = ['Start date', 'End date'] )"
      ],
      "metadata": {
        "id": "aemLyDNzV1a3"
      },
      "execution_count": null,
      "outputs": []
    },
    {
      "cell_type": "code",
      "source": [
        "onebike_datetimes.head()"
      ],
      "metadata": {
        "colab": {
          "base_uri": "https://localhost:8080/",
          "height": 206
        },
        "id": "mKn2C_prWHXH",
        "outputId": "269f906b-a756-4a74-f699-c3afe9fa8979"
      },
      "execution_count": null,
      "outputs": [
        {
          "output_type": "execute_result",
          "data": {
            "text/plain": [
              "           Start date            End date  Start station number  \\\n",
              "0 2017-10-01 15:23:25 2017-10-01 15:26:26                 31038   \n",
              "1 2017-10-01 15:42:57 2017-10-01 17:49:59                 31036   \n",
              "2 2017-10-02 06:37:10 2017-10-02 06:42:53                 31036   \n",
              "3 2017-10-02 08:56:45 2017-10-02 09:18:03                 31037   \n",
              "4 2017-10-02 18:23:48 2017-10-02 18:45:05                 31295   \n",
              "\n",
              "                          Start station  End station number  \\\n",
              "0                  Glebe Rd & 11th St N               31036   \n",
              "1         George Mason Dr & Wilson Blvd               31036   \n",
              "2         George Mason Dr & Wilson Blvd               31037   \n",
              "3  Ballston Metro / N Stuart & 9th St N               31295   \n",
              "4                     Potomac & M St NW               31230   \n",
              "\n",
              "                            End station Bike number Member type  \n",
              "0         George Mason Dr & Wilson Blvd      W20529      Member  \n",
              "1         George Mason Dr & Wilson Blvd      W20529      Casual  \n",
              "2  Ballston Metro / N Stuart & 9th St N      W20529      Member  \n",
              "3                     Potomac & M St NW      W20529      Member  \n",
              "4         Metro Center / 12th & G St NW      W20529      Member  "
            ],
            "text/html": [
              "\n",
              "  <div id=\"df-653da51f-a65f-4f25-bda7-245a48941fd8\" class=\"colab-df-container\">\n",
              "    <div>\n",
              "<style scoped>\n",
              "    .dataframe tbody tr th:only-of-type {\n",
              "        vertical-align: middle;\n",
              "    }\n",
              "\n",
              "    .dataframe tbody tr th {\n",
              "        vertical-align: top;\n",
              "    }\n",
              "\n",
              "    .dataframe thead th {\n",
              "        text-align: right;\n",
              "    }\n",
              "</style>\n",
              "<table border=\"1\" class=\"dataframe\">\n",
              "  <thead>\n",
              "    <tr style=\"text-align: right;\">\n",
              "      <th></th>\n",
              "      <th>Start date</th>\n",
              "      <th>End date</th>\n",
              "      <th>Start station number</th>\n",
              "      <th>Start station</th>\n",
              "      <th>End station number</th>\n",
              "      <th>End station</th>\n",
              "      <th>Bike number</th>\n",
              "      <th>Member type</th>\n",
              "    </tr>\n",
              "  </thead>\n",
              "  <tbody>\n",
              "    <tr>\n",
              "      <th>0</th>\n",
              "      <td>2017-10-01 15:23:25</td>\n",
              "      <td>2017-10-01 15:26:26</td>\n",
              "      <td>31038</td>\n",
              "      <td>Glebe Rd &amp; 11th St N</td>\n",
              "      <td>31036</td>\n",
              "      <td>George Mason Dr &amp; Wilson Blvd</td>\n",
              "      <td>W20529</td>\n",
              "      <td>Member</td>\n",
              "    </tr>\n",
              "    <tr>\n",
              "      <th>1</th>\n",
              "      <td>2017-10-01 15:42:57</td>\n",
              "      <td>2017-10-01 17:49:59</td>\n",
              "      <td>31036</td>\n",
              "      <td>George Mason Dr &amp; Wilson Blvd</td>\n",
              "      <td>31036</td>\n",
              "      <td>George Mason Dr &amp; Wilson Blvd</td>\n",
              "      <td>W20529</td>\n",
              "      <td>Casual</td>\n",
              "    </tr>\n",
              "    <tr>\n",
              "      <th>2</th>\n",
              "      <td>2017-10-02 06:37:10</td>\n",
              "      <td>2017-10-02 06:42:53</td>\n",
              "      <td>31036</td>\n",
              "      <td>George Mason Dr &amp; Wilson Blvd</td>\n",
              "      <td>31037</td>\n",
              "      <td>Ballston Metro / N Stuart &amp; 9th St N</td>\n",
              "      <td>W20529</td>\n",
              "      <td>Member</td>\n",
              "    </tr>\n",
              "    <tr>\n",
              "      <th>3</th>\n",
              "      <td>2017-10-02 08:56:45</td>\n",
              "      <td>2017-10-02 09:18:03</td>\n",
              "      <td>31037</td>\n",
              "      <td>Ballston Metro / N Stuart &amp; 9th St N</td>\n",
              "      <td>31295</td>\n",
              "      <td>Potomac &amp; M St NW</td>\n",
              "      <td>W20529</td>\n",
              "      <td>Member</td>\n",
              "    </tr>\n",
              "    <tr>\n",
              "      <th>4</th>\n",
              "      <td>2017-10-02 18:23:48</td>\n",
              "      <td>2017-10-02 18:45:05</td>\n",
              "      <td>31295</td>\n",
              "      <td>Potomac &amp; M St NW</td>\n",
              "      <td>31230</td>\n",
              "      <td>Metro Center / 12th &amp; G St NW</td>\n",
              "      <td>W20529</td>\n",
              "      <td>Member</td>\n",
              "    </tr>\n",
              "  </tbody>\n",
              "</table>\n",
              "</div>\n",
              "    <div class=\"colab-df-buttons\">\n",
              "\n",
              "  <div class=\"colab-df-container\">\n",
              "    <button class=\"colab-df-convert\" onclick=\"convertToInteractive('df-653da51f-a65f-4f25-bda7-245a48941fd8')\"\n",
              "            title=\"Convert this dataframe to an interactive table.\"\n",
              "            style=\"display:none;\">\n",
              "\n",
              "  <svg xmlns=\"http://www.w3.org/2000/svg\" height=\"24px\" viewBox=\"0 -960 960 960\">\n",
              "    <path d=\"M120-120v-720h720v720H120Zm60-500h600v-160H180v160Zm220 220h160v-160H400v160Zm0 220h160v-160H400v160ZM180-400h160v-160H180v160Zm440 0h160v-160H620v160ZM180-180h160v-160H180v160Zm440 0h160v-160H620v160Z\"/>\n",
              "  </svg>\n",
              "    </button>\n",
              "\n",
              "  <style>\n",
              "    .colab-df-container {\n",
              "      display:flex;\n",
              "      gap: 12px;\n",
              "    }\n",
              "\n",
              "    .colab-df-convert {\n",
              "      background-color: #E8F0FE;\n",
              "      border: none;\n",
              "      border-radius: 50%;\n",
              "      cursor: pointer;\n",
              "      display: none;\n",
              "      fill: #1967D2;\n",
              "      height: 32px;\n",
              "      padding: 0 0 0 0;\n",
              "      width: 32px;\n",
              "    }\n",
              "\n",
              "    .colab-df-convert:hover {\n",
              "      background-color: #E2EBFA;\n",
              "      box-shadow: 0px 1px 2px rgba(60, 64, 67, 0.3), 0px 1px 3px 1px rgba(60, 64, 67, 0.15);\n",
              "      fill: #174EA6;\n",
              "    }\n",
              "\n",
              "    .colab-df-buttons div {\n",
              "      margin-bottom: 4px;\n",
              "    }\n",
              "\n",
              "    [theme=dark] .colab-df-convert {\n",
              "      background-color: #3B4455;\n",
              "      fill: #D2E3FC;\n",
              "    }\n",
              "\n",
              "    [theme=dark] .colab-df-convert:hover {\n",
              "      background-color: #434B5C;\n",
              "      box-shadow: 0px 1px 3px 1px rgba(0, 0, 0, 0.15);\n",
              "      filter: drop-shadow(0px 1px 2px rgba(0, 0, 0, 0.3));\n",
              "      fill: #FFFFFF;\n",
              "    }\n",
              "  </style>\n",
              "\n",
              "    <script>\n",
              "      const buttonEl =\n",
              "        document.querySelector('#df-653da51f-a65f-4f25-bda7-245a48941fd8 button.colab-df-convert');\n",
              "      buttonEl.style.display =\n",
              "        google.colab.kernel.accessAllowed ? 'block' : 'none';\n",
              "\n",
              "      async function convertToInteractive(key) {\n",
              "        const element = document.querySelector('#df-653da51f-a65f-4f25-bda7-245a48941fd8');\n",
              "        const dataTable =\n",
              "          await google.colab.kernel.invokeFunction('convertToInteractive',\n",
              "                                                    [key], {});\n",
              "        if (!dataTable) return;\n",
              "\n",
              "        const docLinkHtml = 'Like what you see? Visit the ' +\n",
              "          '<a target=\"_blank\" href=https://colab.research.google.com/notebooks/data_table.ipynb>data table notebook</a>'\n",
              "          + ' to learn more about interactive tables.';\n",
              "        element.innerHTML = '';\n",
              "        dataTable['output_type'] = 'display_data';\n",
              "        await google.colab.output.renderOutput(dataTable, element);\n",
              "        const docLink = document.createElement('div');\n",
              "        docLink.innerHTML = docLinkHtml;\n",
              "        element.appendChild(docLink);\n",
              "      }\n",
              "    </script>\n",
              "  </div>\n",
              "\n",
              "\n",
              "<div id=\"df-40bbc377-9571-4497-b113-33f5b27c931a\">\n",
              "  <button class=\"colab-df-quickchart\" onclick=\"quickchart('df-40bbc377-9571-4497-b113-33f5b27c931a')\"\n",
              "            title=\"Suggest charts\"\n",
              "            style=\"display:none;\">\n",
              "\n",
              "<svg xmlns=\"http://www.w3.org/2000/svg\" height=\"24px\"viewBox=\"0 0 24 24\"\n",
              "     width=\"24px\">\n",
              "    <g>\n",
              "        <path d=\"M19 3H5c-1.1 0-2 .9-2 2v14c0 1.1.9 2 2 2h14c1.1 0 2-.9 2-2V5c0-1.1-.9-2-2-2zM9 17H7v-7h2v7zm4 0h-2V7h2v10zm4 0h-2v-4h2v4z\"/>\n",
              "    </g>\n",
              "</svg>\n",
              "  </button>\n",
              "\n",
              "<style>\n",
              "  .colab-df-quickchart {\n",
              "      --bg-color: #E8F0FE;\n",
              "      --fill-color: #1967D2;\n",
              "      --hover-bg-color: #E2EBFA;\n",
              "      --hover-fill-color: #174EA6;\n",
              "      --disabled-fill-color: #AAA;\n",
              "      --disabled-bg-color: #DDD;\n",
              "  }\n",
              "\n",
              "  [theme=dark] .colab-df-quickchart {\n",
              "      --bg-color: #3B4455;\n",
              "      --fill-color: #D2E3FC;\n",
              "      --hover-bg-color: #434B5C;\n",
              "      --hover-fill-color: #FFFFFF;\n",
              "      --disabled-bg-color: #3B4455;\n",
              "      --disabled-fill-color: #666;\n",
              "  }\n",
              "\n",
              "  .colab-df-quickchart {\n",
              "    background-color: var(--bg-color);\n",
              "    border: none;\n",
              "    border-radius: 50%;\n",
              "    cursor: pointer;\n",
              "    display: none;\n",
              "    fill: var(--fill-color);\n",
              "    height: 32px;\n",
              "    padding: 0;\n",
              "    width: 32px;\n",
              "  }\n",
              "\n",
              "  .colab-df-quickchart:hover {\n",
              "    background-color: var(--hover-bg-color);\n",
              "    box-shadow: 0 1px 2px rgba(60, 64, 67, 0.3), 0 1px 3px 1px rgba(60, 64, 67, 0.15);\n",
              "    fill: var(--button-hover-fill-color);\n",
              "  }\n",
              "\n",
              "  .colab-df-quickchart-complete:disabled,\n",
              "  .colab-df-quickchart-complete:disabled:hover {\n",
              "    background-color: var(--disabled-bg-color);\n",
              "    fill: var(--disabled-fill-color);\n",
              "    box-shadow: none;\n",
              "  }\n",
              "\n",
              "  .colab-df-spinner {\n",
              "    border: 2px solid var(--fill-color);\n",
              "    border-color: transparent;\n",
              "    border-bottom-color: var(--fill-color);\n",
              "    animation:\n",
              "      spin 1s steps(1) infinite;\n",
              "  }\n",
              "\n",
              "  @keyframes spin {\n",
              "    0% {\n",
              "      border-color: transparent;\n",
              "      border-bottom-color: var(--fill-color);\n",
              "      border-left-color: var(--fill-color);\n",
              "    }\n",
              "    20% {\n",
              "      border-color: transparent;\n",
              "      border-left-color: var(--fill-color);\n",
              "      border-top-color: var(--fill-color);\n",
              "    }\n",
              "    30% {\n",
              "      border-color: transparent;\n",
              "      border-left-color: var(--fill-color);\n",
              "      border-top-color: var(--fill-color);\n",
              "      border-right-color: var(--fill-color);\n",
              "    }\n",
              "    40% {\n",
              "      border-color: transparent;\n",
              "      border-right-color: var(--fill-color);\n",
              "      border-top-color: var(--fill-color);\n",
              "    }\n",
              "    60% {\n",
              "      border-color: transparent;\n",
              "      border-right-color: var(--fill-color);\n",
              "    }\n",
              "    80% {\n",
              "      border-color: transparent;\n",
              "      border-right-color: var(--fill-color);\n",
              "      border-bottom-color: var(--fill-color);\n",
              "    }\n",
              "    90% {\n",
              "      border-color: transparent;\n",
              "      border-bottom-color: var(--fill-color);\n",
              "    }\n",
              "  }\n",
              "</style>\n",
              "\n",
              "  <script>\n",
              "    async function quickchart(key) {\n",
              "      const quickchartButtonEl =\n",
              "        document.querySelector('#' + key + ' button');\n",
              "      quickchartButtonEl.disabled = true;  // To prevent multiple clicks.\n",
              "      quickchartButtonEl.classList.add('colab-df-spinner');\n",
              "      try {\n",
              "        const charts = await google.colab.kernel.invokeFunction(\n",
              "            'suggestCharts', [key], {});\n",
              "      } catch (error) {\n",
              "        console.error('Error during call to suggestCharts:', error);\n",
              "      }\n",
              "      quickchartButtonEl.classList.remove('colab-df-spinner');\n",
              "      quickchartButtonEl.classList.add('colab-df-quickchart-complete');\n",
              "    }\n",
              "    (() => {\n",
              "      let quickchartButtonEl =\n",
              "        document.querySelector('#df-40bbc377-9571-4497-b113-33f5b27c931a button');\n",
              "      quickchartButtonEl.style.display =\n",
              "        google.colab.kernel.accessAllowed ? 'block' : 'none';\n",
              "    })();\n",
              "  </script>\n",
              "</div>\n",
              "    </div>\n",
              "  </div>\n"
            ],
            "application/vnd.google.colaboratory.intrinsic+json": {
              "type": "dataframe",
              "variable_name": "onebike_datetimes",
              "summary": "{\n  \"name\": \"onebike_datetimes\",\n  \"rows\": 290,\n  \"fields\": [\n    {\n      \"column\": \"Start date\",\n      \"properties\": {\n        \"dtype\": \"date\",\n        \"min\": \"2017-10-01 15:23:25\",\n        \"max\": \"2017-12-30 15:09:03\",\n        \"num_unique_values\": 290,\n        \"samples\": [\n          \"2017-10-21 12:24:09\",\n          \"2017-12-16 11:02:31\",\n          \"2017-10-08 15:54:12\"\n        ],\n        \"semantic_type\": \"\",\n        \"description\": \"\"\n      }\n    },\n    {\n      \"column\": \"End date\",\n      \"properties\": {\n        \"dtype\": \"date\",\n        \"min\": \"2017-10-01 15:26:26\",\n        \"max\": \"2017-12-30 15:19:13\",\n        \"num_unique_values\": 290,\n        \"samples\": [\n          \"2017-10-21 12:36:24\",\n          \"2017-12-16 11:05:04\",\n          \"2017-10-08 16:17:42\"\n        ],\n        \"semantic_type\": \"\",\n        \"description\": \"\"\n      }\n    },\n    {\n      \"column\": \"Start station number\",\n      \"properties\": {\n        \"dtype\": \"number\",\n        \"std\": 183,\n        \"min\": 31014,\n        \"max\": 31706,\n        \"num_unique_values\": 156,\n        \"samples\": [\n          31305,\n          31626,\n          31265\n        ],\n        \"semantic_type\": \"\",\n        \"description\": \"\"\n      }\n    },\n    {\n      \"column\": \"Start station\",\n      \"properties\": {\n        \"dtype\": \"string\",\n        \"num_unique_values\": 156,\n        \"samples\": [\n          \"Connecticut Ave & Newark St NW / Cleveland Park\",\n          \"15th St & Massachusetts Ave SE\",\n          \"5th St & Massachusetts Ave NW\"\n        ],\n        \"semantic_type\": \"\",\n        \"description\": \"\"\n      }\n    },\n    {\n      \"column\": \"End station number\",\n      \"properties\": {\n        \"dtype\": \"number\",\n        \"std\": 184,\n        \"min\": 31014,\n        \"max\": 31805,\n        \"num_unique_values\": 151,\n        \"samples\": [\n          31701,\n          31278,\n          31100\n        ],\n        \"semantic_type\": \"\",\n        \"description\": \"\"\n      }\n    },\n    {\n      \"column\": \"End station\",\n      \"properties\": {\n        \"dtype\": \"string\",\n        \"num_unique_values\": 151,\n        \"samples\": [\n          \"Branch & Pennsylvania Ave SE\",\n          \"18th & R St NW\",\n          \"19th St & Pennsylvania Ave NW\"\n        ],\n        \"semantic_type\": \"\",\n        \"description\": \"\"\n      }\n    },\n    {\n      \"column\": \"Bike number\",\n      \"properties\": {\n        \"dtype\": \"category\",\n        \"num_unique_values\": 1,\n        \"samples\": [\n          \"W20529\"\n        ],\n        \"semantic_type\": \"\",\n        \"description\": \"\"\n      }\n    },\n    {\n      \"column\": \"Member type\",\n      \"properties\": {\n        \"dtype\": \"category\",\n        \"num_unique_values\": 2,\n        \"samples\": [\n          \"Casual\"\n        ],\n        \"semantic_type\": \"\",\n        \"description\": \"\"\n      }\n    }\n  ]\n}"
            }
          },
          "metadata": {},
          "execution_count": 3
        }
      ]
    },
    {
      "cell_type": "code",
      "source": [],
      "metadata": {
        "id": "CWGbE_QVWfA3"
      },
      "execution_count": null,
      "outputs": []
    },
    {
      "cell_type": "code",
      "source": [
        "# Create dictionary to hold results\n",
        "trip_counts = {'AM': 0, 'PM': 0}\n",
        "\n",
        "# Loop over all trips\n",
        "for strat_date in onebike_datetimes['Start date'].dt.hour:\n",
        "  # Check to see if the trip starts before noon\n",
        "  if strat_date< 12:\n",
        "    # Increment the counter for before noon\n",
        "    trip_counts['AM'] += 1\n",
        "  else:\n",
        "    # Increment the counter for after noon\n",
        "    trip_counts['PM'] += 1\n",
        "\n",
        "print(trip_counts)"
      ],
      "metadata": {
        "colab": {
          "base_uri": "https://localhost:8080/"
        },
        "id": "W7RjopgHWk0W",
        "outputId": "cfbcf6d9-25b0-4aee-ccb5-95d21051f3fc"
      },
      "execution_count": null,
      "outputs": [
        {
          "output_type": "stream",
          "name": "stdout",
          "text": [
            "{'AM': 94, 'PM': 196}\n"
          ]
        }
      ]
    },
    {
      "cell_type": "code",
      "source": [
        "## strftime\n",
        "# create datetime\n",
        "from datetime import datetime\n",
        "dt = datetime(2015,12,3,12,12,34)\n",
        "print(dt.strftime(\"%Y-%m%d\"))"
      ],
      "metadata": {
        "id": "ncikRdUSW2wO",
        "colab": {
          "base_uri": "https://localhost:8080/"
        },
        "outputId": "e0e7ae51-1081-4289-dacc-07f2f66d38df"
      },
      "execution_count": null,
      "outputs": [
        {
          "output_type": "stream",
          "name": "stdout",
          "text": [
            "2015-1203\n"
          ]
        }
      ]
    },
    {
      "cell_type": "code",
      "source": [
        "print(dt.strftime(\"%Y-%m-%d %H:%M%S\"))"
      ],
      "metadata": {
        "colab": {
          "base_uri": "https://localhost:8080/"
        },
        "id": "zpcFYaCh_qRW",
        "outputId": "e97e7e14-e3a6-48d7-f27b-c88ff2a378e3"
      },
      "execution_count": null,
      "outputs": [
        {
          "output_type": "stream",
          "name": "stdout",
          "text": [
            "2015-12-03 12:1234\n"
          ]
        }
      ]
    },
    {
      "cell_type": "code",
      "source": [
        " # using isoformat ISO 8601\n",
        " print(dt.isoformat())"
      ],
      "metadata": {
        "colab": {
          "base_uri": "https://localhost:8080/"
        },
        "id": "vIEHrK0L_-bi",
        "outputId": "5cf46126-d9f3-4c9c-f38a-b8f76d62affd"
      },
      "execution_count": null,
      "outputs": [
        {
          "output_type": "stream",
          "name": "stdout",
          "text": [
            "2015-12-03T12:12:34\n"
          ]
        }
      ]
    },
    {
      "cell_type": "code",
      "source": [
        "# parsing datetime from string\n",
        "datetime.strptime('30-12-1980 14:18:13', \"%d-%m-%Y %H:%M:%S\")"
      ],
      "metadata": {
        "colab": {
          "base_uri": "https://localhost:8080/"
        },
        "id": "s7tcxWBkARGM",
        "outputId": "49421214-a3fe-4e47-ae1b-7a6688477017"
      },
      "execution_count": null,
      "outputs": [
        {
          "output_type": "execute_result",
          "data": {
            "text/plain": [
              "datetime.datetime(1980, 12, 30, 14, 18, 13)"
            ]
          },
          "metadata": {},
          "execution_count": 20
        }
      ]
    },
    {
      "cell_type": "code",
      "source": [
        "# Unix timestamp. Many computers store datetime information behind the scenes as the number of seconds since January 1, 1970\n",
        "\n",
        "ts = 1514322523.90\n",
        "datetime.fromtimestamp(ts)"
      ],
      "metadata": {
        "colab": {
          "base_uri": "https://localhost:8080/"
        },
        "id": "OXfxVE_QBBfT",
        "outputId": "e146f8c2-3439-4a78-a84c-e4568b10a570"
      },
      "execution_count": null,
      "outputs": [
        {
          "output_type": "execute_result",
          "data": {
            "text/plain": [
              "datetime.datetime(2017, 12, 26, 21, 8, 43, 900000)"
            ]
          },
          "metadata": {},
          "execution_count": 22
        }
      ]
    },
    {
      "cell_type": "code",
      "source": [
        "#duration: the elapsed time between events.\n",
        "strat = datetime(2014,12,21, 23,45,47)\n",
        "end = datetime(2015,4,5, 12,43,50)\n",
        "duration = end - strat\n",
        "print(duration)\n",
        "print(duration.total_seconds())\n",
        "# the type of the duration is timedelta\n",
        "type(duration)"
      ],
      "metadata": {
        "colab": {
          "base_uri": "https://localhost:8080/"
        },
        "id": "IS4d8SslBrrY",
        "outputId": "030542e0-a285-4bda-d925-368741904f1f"
      },
      "execution_count": null,
      "outputs": [
        {
          "output_type": "stream",
          "name": "stdout",
          "text": [
            "104 days, 12:58:03\n",
            "9032283.0\n"
          ]
        },
        {
          "output_type": "execute_result",
          "data": {
            "text/plain": [
              "datetime.timedelta"
            ]
          },
          "metadata": {},
          "execution_count": 27
        }
      ]
    },
    {
      "cell_type": "code",
      "source": [
        "### createing time delta\n",
        "from datetime import timedelta\n",
        "delta = timedelta(days = 2, seconds= 12)\n",
        "print(strat + delta)"
      ],
      "metadata": {
        "colab": {
          "base_uri": "https://localhost:8080/"
        },
        "id": "HHAyZIU9CxCt",
        "outputId": "e7a25443-9dda-4881-f25d-3a728086a452"
      },
      "execution_count": null,
      "outputs": [
        {
          "output_type": "stream",
          "name": "stdout",
          "text": [
            "2014-12-23 23:45:59\n"
          ]
        }
      ]
    },
    {
      "cell_type": "code",
      "source": [
        "# create a column for elapse of time between end and start date\n",
        "onebike_datetimes['duration'] = [ (end- start).total_seconds() for (start, end) in zip(onebike_datetimes['Start date'],onebike_datetimes['End date'])]"
      ],
      "metadata": {
        "id": "6oYNIsVUDd0I"
      },
      "execution_count": null,
      "outputs": []
    },
    {
      "cell_type": "code",
      "source": [
        "onebike_datetimes.head()"
      ],
      "metadata": {
        "colab": {
          "base_uri": "https://localhost:8080/",
          "height": 206
        },
        "id": "0TREiaRYEQSR",
        "outputId": "a6eb9b5c-0717-4b2b-b9ca-e47533736280"
      },
      "execution_count": null,
      "outputs": [
        {
          "output_type": "execute_result",
          "data": {
            "text/plain": [
              "           Start date            End date  Start station number  \\\n",
              "0 2017-10-01 15:23:25 2017-10-01 15:26:26                 31038   \n",
              "1 2017-10-01 15:42:57 2017-10-01 17:49:59                 31036   \n",
              "2 2017-10-02 06:37:10 2017-10-02 06:42:53                 31036   \n",
              "3 2017-10-02 08:56:45 2017-10-02 09:18:03                 31037   \n",
              "4 2017-10-02 18:23:48 2017-10-02 18:45:05                 31295   \n",
              "\n",
              "                          Start station  End station number  \\\n",
              "0                  Glebe Rd & 11th St N               31036   \n",
              "1         George Mason Dr & Wilson Blvd               31036   \n",
              "2         George Mason Dr & Wilson Blvd               31037   \n",
              "3  Ballston Metro / N Stuart & 9th St N               31295   \n",
              "4                     Potomac & M St NW               31230   \n",
              "\n",
              "                            End station Bike number Member type  duration  \n",
              "0         George Mason Dr & Wilson Blvd      W20529      Member     181.0  \n",
              "1         George Mason Dr & Wilson Blvd      W20529      Casual    7622.0  \n",
              "2  Ballston Metro / N Stuart & 9th St N      W20529      Member     343.0  \n",
              "3                     Potomac & M St NW      W20529      Member    1278.0  \n",
              "4         Metro Center / 12th & G St NW      W20529      Member    1277.0  "
            ],
            "text/html": [
              "\n",
              "  <div id=\"df-ccb45908-3df9-4992-a335-6b48cb6e9b35\" class=\"colab-df-container\">\n",
              "    <div>\n",
              "<style scoped>\n",
              "    .dataframe tbody tr th:only-of-type {\n",
              "        vertical-align: middle;\n",
              "    }\n",
              "\n",
              "    .dataframe tbody tr th {\n",
              "        vertical-align: top;\n",
              "    }\n",
              "\n",
              "    .dataframe thead th {\n",
              "        text-align: right;\n",
              "    }\n",
              "</style>\n",
              "<table border=\"1\" class=\"dataframe\">\n",
              "  <thead>\n",
              "    <tr style=\"text-align: right;\">\n",
              "      <th></th>\n",
              "      <th>Start date</th>\n",
              "      <th>End date</th>\n",
              "      <th>Start station number</th>\n",
              "      <th>Start station</th>\n",
              "      <th>End station number</th>\n",
              "      <th>End station</th>\n",
              "      <th>Bike number</th>\n",
              "      <th>Member type</th>\n",
              "      <th>duration</th>\n",
              "    </tr>\n",
              "  </thead>\n",
              "  <tbody>\n",
              "    <tr>\n",
              "      <th>0</th>\n",
              "      <td>2017-10-01 15:23:25</td>\n",
              "      <td>2017-10-01 15:26:26</td>\n",
              "      <td>31038</td>\n",
              "      <td>Glebe Rd &amp; 11th St N</td>\n",
              "      <td>31036</td>\n",
              "      <td>George Mason Dr &amp; Wilson Blvd</td>\n",
              "      <td>W20529</td>\n",
              "      <td>Member</td>\n",
              "      <td>181.0</td>\n",
              "    </tr>\n",
              "    <tr>\n",
              "      <th>1</th>\n",
              "      <td>2017-10-01 15:42:57</td>\n",
              "      <td>2017-10-01 17:49:59</td>\n",
              "      <td>31036</td>\n",
              "      <td>George Mason Dr &amp; Wilson Blvd</td>\n",
              "      <td>31036</td>\n",
              "      <td>George Mason Dr &amp; Wilson Blvd</td>\n",
              "      <td>W20529</td>\n",
              "      <td>Casual</td>\n",
              "      <td>7622.0</td>\n",
              "    </tr>\n",
              "    <tr>\n",
              "      <th>2</th>\n",
              "      <td>2017-10-02 06:37:10</td>\n",
              "      <td>2017-10-02 06:42:53</td>\n",
              "      <td>31036</td>\n",
              "      <td>George Mason Dr &amp; Wilson Blvd</td>\n",
              "      <td>31037</td>\n",
              "      <td>Ballston Metro / N Stuart &amp; 9th St N</td>\n",
              "      <td>W20529</td>\n",
              "      <td>Member</td>\n",
              "      <td>343.0</td>\n",
              "    </tr>\n",
              "    <tr>\n",
              "      <th>3</th>\n",
              "      <td>2017-10-02 08:56:45</td>\n",
              "      <td>2017-10-02 09:18:03</td>\n",
              "      <td>31037</td>\n",
              "      <td>Ballston Metro / N Stuart &amp; 9th St N</td>\n",
              "      <td>31295</td>\n",
              "      <td>Potomac &amp; M St NW</td>\n",
              "      <td>W20529</td>\n",
              "      <td>Member</td>\n",
              "      <td>1278.0</td>\n",
              "    </tr>\n",
              "    <tr>\n",
              "      <th>4</th>\n",
              "      <td>2017-10-02 18:23:48</td>\n",
              "      <td>2017-10-02 18:45:05</td>\n",
              "      <td>31295</td>\n",
              "      <td>Potomac &amp; M St NW</td>\n",
              "      <td>31230</td>\n",
              "      <td>Metro Center / 12th &amp; G St NW</td>\n",
              "      <td>W20529</td>\n",
              "      <td>Member</td>\n",
              "      <td>1277.0</td>\n",
              "    </tr>\n",
              "  </tbody>\n",
              "</table>\n",
              "</div>\n",
              "    <div class=\"colab-df-buttons\">\n",
              "\n",
              "  <div class=\"colab-df-container\">\n",
              "    <button class=\"colab-df-convert\" onclick=\"convertToInteractive('df-ccb45908-3df9-4992-a335-6b48cb6e9b35')\"\n",
              "            title=\"Convert this dataframe to an interactive table.\"\n",
              "            style=\"display:none;\">\n",
              "\n",
              "  <svg xmlns=\"http://www.w3.org/2000/svg\" height=\"24px\" viewBox=\"0 -960 960 960\">\n",
              "    <path d=\"M120-120v-720h720v720H120Zm60-500h600v-160H180v160Zm220 220h160v-160H400v160Zm0 220h160v-160H400v160ZM180-400h160v-160H180v160Zm440 0h160v-160H620v160ZM180-180h160v-160H180v160Zm440 0h160v-160H620v160Z\"/>\n",
              "  </svg>\n",
              "    </button>\n",
              "\n",
              "  <style>\n",
              "    .colab-df-container {\n",
              "      display:flex;\n",
              "      gap: 12px;\n",
              "    }\n",
              "\n",
              "    .colab-df-convert {\n",
              "      background-color: #E8F0FE;\n",
              "      border: none;\n",
              "      border-radius: 50%;\n",
              "      cursor: pointer;\n",
              "      display: none;\n",
              "      fill: #1967D2;\n",
              "      height: 32px;\n",
              "      padding: 0 0 0 0;\n",
              "      width: 32px;\n",
              "    }\n",
              "\n",
              "    .colab-df-convert:hover {\n",
              "      background-color: #E2EBFA;\n",
              "      box-shadow: 0px 1px 2px rgba(60, 64, 67, 0.3), 0px 1px 3px 1px rgba(60, 64, 67, 0.15);\n",
              "      fill: #174EA6;\n",
              "    }\n",
              "\n",
              "    .colab-df-buttons div {\n",
              "      margin-bottom: 4px;\n",
              "    }\n",
              "\n",
              "    [theme=dark] .colab-df-convert {\n",
              "      background-color: #3B4455;\n",
              "      fill: #D2E3FC;\n",
              "    }\n",
              "\n",
              "    [theme=dark] .colab-df-convert:hover {\n",
              "      background-color: #434B5C;\n",
              "      box-shadow: 0px 1px 3px 1px rgba(0, 0, 0, 0.15);\n",
              "      filter: drop-shadow(0px 1px 2px rgba(0, 0, 0, 0.3));\n",
              "      fill: #FFFFFF;\n",
              "    }\n",
              "  </style>\n",
              "\n",
              "    <script>\n",
              "      const buttonEl =\n",
              "        document.querySelector('#df-ccb45908-3df9-4992-a335-6b48cb6e9b35 button.colab-df-convert');\n",
              "      buttonEl.style.display =\n",
              "        google.colab.kernel.accessAllowed ? 'block' : 'none';\n",
              "\n",
              "      async function convertToInteractive(key) {\n",
              "        const element = document.querySelector('#df-ccb45908-3df9-4992-a335-6b48cb6e9b35');\n",
              "        const dataTable =\n",
              "          await google.colab.kernel.invokeFunction('convertToInteractive',\n",
              "                                                    [key], {});\n",
              "        if (!dataTable) return;\n",
              "\n",
              "        const docLinkHtml = 'Like what you see? Visit the ' +\n",
              "          '<a target=\"_blank\" href=https://colab.research.google.com/notebooks/data_table.ipynb>data table notebook</a>'\n",
              "          + ' to learn more about interactive tables.';\n",
              "        element.innerHTML = '';\n",
              "        dataTable['output_type'] = 'display_data';\n",
              "        await google.colab.output.renderOutput(dataTable, element);\n",
              "        const docLink = document.createElement('div');\n",
              "        docLink.innerHTML = docLinkHtml;\n",
              "        element.appendChild(docLink);\n",
              "      }\n",
              "    </script>\n",
              "  </div>\n",
              "\n",
              "\n",
              "<div id=\"df-aec12a98-4c77-449a-9905-6b485024873f\">\n",
              "  <button class=\"colab-df-quickchart\" onclick=\"quickchart('df-aec12a98-4c77-449a-9905-6b485024873f')\"\n",
              "            title=\"Suggest charts\"\n",
              "            style=\"display:none;\">\n",
              "\n",
              "<svg xmlns=\"http://www.w3.org/2000/svg\" height=\"24px\"viewBox=\"0 0 24 24\"\n",
              "     width=\"24px\">\n",
              "    <g>\n",
              "        <path d=\"M19 3H5c-1.1 0-2 .9-2 2v14c0 1.1.9 2 2 2h14c1.1 0 2-.9 2-2V5c0-1.1-.9-2-2-2zM9 17H7v-7h2v7zm4 0h-2V7h2v10zm4 0h-2v-4h2v4z\"/>\n",
              "    </g>\n",
              "</svg>\n",
              "  </button>\n",
              "\n",
              "<style>\n",
              "  .colab-df-quickchart {\n",
              "      --bg-color: #E8F0FE;\n",
              "      --fill-color: #1967D2;\n",
              "      --hover-bg-color: #E2EBFA;\n",
              "      --hover-fill-color: #174EA6;\n",
              "      --disabled-fill-color: #AAA;\n",
              "      --disabled-bg-color: #DDD;\n",
              "  }\n",
              "\n",
              "  [theme=dark] .colab-df-quickchart {\n",
              "      --bg-color: #3B4455;\n",
              "      --fill-color: #D2E3FC;\n",
              "      --hover-bg-color: #434B5C;\n",
              "      --hover-fill-color: #FFFFFF;\n",
              "      --disabled-bg-color: #3B4455;\n",
              "      --disabled-fill-color: #666;\n",
              "  }\n",
              "\n",
              "  .colab-df-quickchart {\n",
              "    background-color: var(--bg-color);\n",
              "    border: none;\n",
              "    border-radius: 50%;\n",
              "    cursor: pointer;\n",
              "    display: none;\n",
              "    fill: var(--fill-color);\n",
              "    height: 32px;\n",
              "    padding: 0;\n",
              "    width: 32px;\n",
              "  }\n",
              "\n",
              "  .colab-df-quickchart:hover {\n",
              "    background-color: var(--hover-bg-color);\n",
              "    box-shadow: 0 1px 2px rgba(60, 64, 67, 0.3), 0 1px 3px 1px rgba(60, 64, 67, 0.15);\n",
              "    fill: var(--button-hover-fill-color);\n",
              "  }\n",
              "\n",
              "  .colab-df-quickchart-complete:disabled,\n",
              "  .colab-df-quickchart-complete:disabled:hover {\n",
              "    background-color: var(--disabled-bg-color);\n",
              "    fill: var(--disabled-fill-color);\n",
              "    box-shadow: none;\n",
              "  }\n",
              "\n",
              "  .colab-df-spinner {\n",
              "    border: 2px solid var(--fill-color);\n",
              "    border-color: transparent;\n",
              "    border-bottom-color: var(--fill-color);\n",
              "    animation:\n",
              "      spin 1s steps(1) infinite;\n",
              "  }\n",
              "\n",
              "  @keyframes spin {\n",
              "    0% {\n",
              "      border-color: transparent;\n",
              "      border-bottom-color: var(--fill-color);\n",
              "      border-left-color: var(--fill-color);\n",
              "    }\n",
              "    20% {\n",
              "      border-color: transparent;\n",
              "      border-left-color: var(--fill-color);\n",
              "      border-top-color: var(--fill-color);\n",
              "    }\n",
              "    30% {\n",
              "      border-color: transparent;\n",
              "      border-left-color: var(--fill-color);\n",
              "      border-top-color: var(--fill-color);\n",
              "      border-right-color: var(--fill-color);\n",
              "    }\n",
              "    40% {\n",
              "      border-color: transparent;\n",
              "      border-right-color: var(--fill-color);\n",
              "      border-top-color: var(--fill-color);\n",
              "    }\n",
              "    60% {\n",
              "      border-color: transparent;\n",
              "      border-right-color: var(--fill-color);\n",
              "    }\n",
              "    80% {\n",
              "      border-color: transparent;\n",
              "      border-right-color: var(--fill-color);\n",
              "      border-bottom-color: var(--fill-color);\n",
              "    }\n",
              "    90% {\n",
              "      border-color: transparent;\n",
              "      border-bottom-color: var(--fill-color);\n",
              "    }\n",
              "  }\n",
              "</style>\n",
              "\n",
              "  <script>\n",
              "    async function quickchart(key) {\n",
              "      const quickchartButtonEl =\n",
              "        document.querySelector('#' + key + ' button');\n",
              "      quickchartButtonEl.disabled = true;  // To prevent multiple clicks.\n",
              "      quickchartButtonEl.classList.add('colab-df-spinner');\n",
              "      try {\n",
              "        const charts = await google.colab.kernel.invokeFunction(\n",
              "            'suggestCharts', [key], {});\n",
              "      } catch (error) {\n",
              "        console.error('Error during call to suggestCharts:', error);\n",
              "      }\n",
              "      quickchartButtonEl.classList.remove('colab-df-spinner');\n",
              "      quickchartButtonEl.classList.add('colab-df-quickchart-complete');\n",
              "    }\n",
              "    (() => {\n",
              "      let quickchartButtonEl =\n",
              "        document.querySelector('#df-aec12a98-4c77-449a-9905-6b485024873f button');\n",
              "      quickchartButtonEl.style.display =\n",
              "        google.colab.kernel.accessAllowed ? 'block' : 'none';\n",
              "    })();\n",
              "  </script>\n",
              "</div>\n",
              "    </div>\n",
              "  </div>\n"
            ],
            "application/vnd.google.colaboratory.intrinsic+json": {
              "type": "dataframe",
              "variable_name": "onebike_datetimes",
              "summary": "{\n  \"name\": \"onebike_datetimes\",\n  \"rows\": 290,\n  \"fields\": [\n    {\n      \"column\": \"Start date\",\n      \"properties\": {\n        \"dtype\": \"date\",\n        \"min\": \"2017-10-01 15:23:25\",\n        \"max\": \"2017-12-30 15:09:03\",\n        \"num_unique_values\": 290,\n        \"samples\": [\n          \"2017-10-21 12:24:09\",\n          \"2017-12-16 11:02:31\",\n          \"2017-10-08 15:54:12\"\n        ],\n        \"semantic_type\": \"\",\n        \"description\": \"\"\n      }\n    },\n    {\n      \"column\": \"End date\",\n      \"properties\": {\n        \"dtype\": \"date\",\n        \"min\": \"2017-10-01 15:26:26\",\n        \"max\": \"2017-12-30 15:19:13\",\n        \"num_unique_values\": 290,\n        \"samples\": [\n          \"2017-10-21 12:36:24\",\n          \"2017-12-16 11:05:04\",\n          \"2017-10-08 16:17:42\"\n        ],\n        \"semantic_type\": \"\",\n        \"description\": \"\"\n      }\n    },\n    {\n      \"column\": \"Start station number\",\n      \"properties\": {\n        \"dtype\": \"number\",\n        \"std\": 183,\n        \"min\": 31014,\n        \"max\": 31706,\n        \"num_unique_values\": 156,\n        \"samples\": [\n          31305,\n          31626,\n          31265\n        ],\n        \"semantic_type\": \"\",\n        \"description\": \"\"\n      }\n    },\n    {\n      \"column\": \"Start station\",\n      \"properties\": {\n        \"dtype\": \"string\",\n        \"num_unique_values\": 156,\n        \"samples\": [\n          \"Connecticut Ave & Newark St NW / Cleveland Park\",\n          \"15th St & Massachusetts Ave SE\",\n          \"5th St & Massachusetts Ave NW\"\n        ],\n        \"semantic_type\": \"\",\n        \"description\": \"\"\n      }\n    },\n    {\n      \"column\": \"End station number\",\n      \"properties\": {\n        \"dtype\": \"number\",\n        \"std\": 184,\n        \"min\": 31014,\n        \"max\": 31805,\n        \"num_unique_values\": 151,\n        \"samples\": [\n          31701,\n          31278,\n          31100\n        ],\n        \"semantic_type\": \"\",\n        \"description\": \"\"\n      }\n    },\n    {\n      \"column\": \"End station\",\n      \"properties\": {\n        \"dtype\": \"string\",\n        \"num_unique_values\": 151,\n        \"samples\": [\n          \"Branch & Pennsylvania Ave SE\",\n          \"18th & R St NW\",\n          \"19th St & Pennsylvania Ave NW\"\n        ],\n        \"semantic_type\": \"\",\n        \"description\": \"\"\n      }\n    },\n    {\n      \"column\": \"Bike number\",\n      \"properties\": {\n        \"dtype\": \"category\",\n        \"num_unique_values\": 1,\n        \"samples\": [\n          \"W20529\"\n        ],\n        \"semantic_type\": \"\",\n        \"description\": \"\"\n      }\n    },\n    {\n      \"column\": \"Member type\",\n      \"properties\": {\n        \"dtype\": \"category\",\n        \"num_unique_values\": 2,\n        \"samples\": [\n          \"Casual\"\n        ],\n        \"semantic_type\": \"\",\n        \"description\": \"\"\n      }\n    },\n    {\n      \"column\": \"duration\",\n      \"properties\": {\n        \"dtype\": \"number\",\n        \"std\": 4626.431579290573,\n        \"min\": -3346.0,\n        \"max\": 76913.0,\n        \"num_unique_values\": 253,\n        \"samples\": [\n          195.0\n        ],\n        \"semantic_type\": \"\",\n        \"description\": \"\"\n      }\n    }\n  ]\n}"
            }
          },
          "metadata": {},
          "execution_count": 41
        }
      ]
    },
    {
      "cell_type": "code",
      "source": [
        "# what is the average of holding the bieks\n",
        "onebike_datetimes['duration'].mean() # based on number of seconds"
      ],
      "metadata": {
        "colab": {
          "base_uri": "https://localhost:8080/"
        },
        "id": "zsDymAx-E0Sc",
        "outputId": "ccf8220d-2383-4a80-fd0b-547b2feae450"
      },
      "execution_count": null,
      "outputs": [
        {
          "output_type": "execute_result",
          "data": {
            "text/plain": [
              "1178.9310344827586"
            ]
          },
          "metadata": {},
          "execution_count": 42
        }
      ]
    },
    {
      "cell_type": "code",
      "source": [
        "# find the shortest and longest trip\n",
        "onebike_datetimes['duration'].min()\n",
        "# For at least one trip, the bike returned before it left. Why could that be?\n"
      ],
      "metadata": {
        "colab": {
          "base_uri": "https://localhost:8080/"
        },
        "id": "KXnFBhrXF2Ur",
        "outputId": "cdae793e-fec8-40eb-962f-f7b8ad3b9b80"
      },
      "execution_count": null,
      "outputs": [
        {
          "output_type": "execute_result",
          "data": {
            "text/plain": [
              "-3346.0"
            ]
          },
          "metadata": {},
          "execution_count": 46
        }
      ]
    },
    {
      "cell_type": "code",
      "source": [
        "onebike_datetimes.query(\"duration <0\")"
      ],
      "metadata": {
        "colab": {
          "base_uri": "https://localhost:8080/",
          "height": 81
        },
        "id": "DfcdZDz4Gcz9",
        "outputId": "d38be304-4919-4d9a-e7c2-c9a8947710e1"
      },
      "execution_count": null,
      "outputs": [
        {
          "output_type": "execute_result",
          "data": {
            "text/plain": [
              "             Start date            End date  Start station number  \\\n",
              "129 2017-11-05 01:56:50 2017-11-05 01:01:04                 31615   \n",
              "\n",
              "     Start station  End station number    End station Bike number Member type  \\\n",
              "129  6th & H St NE               31627  3rd & M St NE      W20529      Member   \n",
              "\n",
              "     duration  \n",
              "129   -3346.0  "
            ],
            "text/html": [
              "\n",
              "  <div id=\"df-a1e3be60-78c5-4bd4-af74-503b2911975d\" class=\"colab-df-container\">\n",
              "    <div>\n",
              "<style scoped>\n",
              "    .dataframe tbody tr th:only-of-type {\n",
              "        vertical-align: middle;\n",
              "    }\n",
              "\n",
              "    .dataframe tbody tr th {\n",
              "        vertical-align: top;\n",
              "    }\n",
              "\n",
              "    .dataframe thead th {\n",
              "        text-align: right;\n",
              "    }\n",
              "</style>\n",
              "<table border=\"1\" class=\"dataframe\">\n",
              "  <thead>\n",
              "    <tr style=\"text-align: right;\">\n",
              "      <th></th>\n",
              "      <th>Start date</th>\n",
              "      <th>End date</th>\n",
              "      <th>Start station number</th>\n",
              "      <th>Start station</th>\n",
              "      <th>End station number</th>\n",
              "      <th>End station</th>\n",
              "      <th>Bike number</th>\n",
              "      <th>Member type</th>\n",
              "      <th>duration</th>\n",
              "    </tr>\n",
              "  </thead>\n",
              "  <tbody>\n",
              "    <tr>\n",
              "      <th>129</th>\n",
              "      <td>2017-11-05 01:56:50</td>\n",
              "      <td>2017-11-05 01:01:04</td>\n",
              "      <td>31615</td>\n",
              "      <td>6th &amp; H St NE</td>\n",
              "      <td>31627</td>\n",
              "      <td>3rd &amp; M St NE</td>\n",
              "      <td>W20529</td>\n",
              "      <td>Member</td>\n",
              "      <td>-3346.0</td>\n",
              "    </tr>\n",
              "  </tbody>\n",
              "</table>\n",
              "</div>\n",
              "    <div class=\"colab-df-buttons\">\n",
              "\n",
              "  <div class=\"colab-df-container\">\n",
              "    <button class=\"colab-df-convert\" onclick=\"convertToInteractive('df-a1e3be60-78c5-4bd4-af74-503b2911975d')\"\n",
              "            title=\"Convert this dataframe to an interactive table.\"\n",
              "            style=\"display:none;\">\n",
              "\n",
              "  <svg xmlns=\"http://www.w3.org/2000/svg\" height=\"24px\" viewBox=\"0 -960 960 960\">\n",
              "    <path d=\"M120-120v-720h720v720H120Zm60-500h600v-160H180v160Zm220 220h160v-160H400v160Zm0 220h160v-160H400v160ZM180-400h160v-160H180v160Zm440 0h160v-160H620v160ZM180-180h160v-160H180v160Zm440 0h160v-160H620v160Z\"/>\n",
              "  </svg>\n",
              "    </button>\n",
              "\n",
              "  <style>\n",
              "    .colab-df-container {\n",
              "      display:flex;\n",
              "      gap: 12px;\n",
              "    }\n",
              "\n",
              "    .colab-df-convert {\n",
              "      background-color: #E8F0FE;\n",
              "      border: none;\n",
              "      border-radius: 50%;\n",
              "      cursor: pointer;\n",
              "      display: none;\n",
              "      fill: #1967D2;\n",
              "      height: 32px;\n",
              "      padding: 0 0 0 0;\n",
              "      width: 32px;\n",
              "    }\n",
              "\n",
              "    .colab-df-convert:hover {\n",
              "      background-color: #E2EBFA;\n",
              "      box-shadow: 0px 1px 2px rgba(60, 64, 67, 0.3), 0px 1px 3px 1px rgba(60, 64, 67, 0.15);\n",
              "      fill: #174EA6;\n",
              "    }\n",
              "\n",
              "    .colab-df-buttons div {\n",
              "      margin-bottom: 4px;\n",
              "    }\n",
              "\n",
              "    [theme=dark] .colab-df-convert {\n",
              "      background-color: #3B4455;\n",
              "      fill: #D2E3FC;\n",
              "    }\n",
              "\n",
              "    [theme=dark] .colab-df-convert:hover {\n",
              "      background-color: #434B5C;\n",
              "      box-shadow: 0px 1px 3px 1px rgba(0, 0, 0, 0.15);\n",
              "      filter: drop-shadow(0px 1px 2px rgba(0, 0, 0, 0.3));\n",
              "      fill: #FFFFFF;\n",
              "    }\n",
              "  </style>\n",
              "\n",
              "    <script>\n",
              "      const buttonEl =\n",
              "        document.querySelector('#df-a1e3be60-78c5-4bd4-af74-503b2911975d button.colab-df-convert');\n",
              "      buttonEl.style.display =\n",
              "        google.colab.kernel.accessAllowed ? 'block' : 'none';\n",
              "\n",
              "      async function convertToInteractive(key) {\n",
              "        const element = document.querySelector('#df-a1e3be60-78c5-4bd4-af74-503b2911975d');\n",
              "        const dataTable =\n",
              "          await google.colab.kernel.invokeFunction('convertToInteractive',\n",
              "                                                    [key], {});\n",
              "        if (!dataTable) return;\n",
              "\n",
              "        const docLinkHtml = 'Like what you see? Visit the ' +\n",
              "          '<a target=\"_blank\" href=https://colab.research.google.com/notebooks/data_table.ipynb>data table notebook</a>'\n",
              "          + ' to learn more about interactive tables.';\n",
              "        element.innerHTML = '';\n",
              "        dataTable['output_type'] = 'display_data';\n",
              "        await google.colab.output.renderOutput(dataTable, element);\n",
              "        const docLink = document.createElement('div');\n",
              "        docLink.innerHTML = docLinkHtml;\n",
              "        element.appendChild(docLink);\n",
              "      }\n",
              "    </script>\n",
              "  </div>\n",
              "\n",
              "    </div>\n",
              "  </div>\n"
            ],
            "application/vnd.google.colaboratory.intrinsic+json": {
              "type": "dataframe",
              "summary": "{\n  \"name\": \"onebike_datetimes\",\n  \"rows\": 1,\n  \"fields\": [\n    {\n      \"column\": \"Start date\",\n      \"properties\": {\n        \"dtype\": \"date\",\n        \"min\": \"2017-11-05 01:56:50\",\n        \"max\": \"2017-11-05 01:56:50\",\n        \"num_unique_values\": 1,\n        \"samples\": [\n          \"2017-11-05 01:56:50\"\n        ],\n        \"semantic_type\": \"\",\n        \"description\": \"\"\n      }\n    },\n    {\n      \"column\": \"End date\",\n      \"properties\": {\n        \"dtype\": \"date\",\n        \"min\": \"2017-11-05 01:01:04\",\n        \"max\": \"2017-11-05 01:01:04\",\n        \"num_unique_values\": 1,\n        \"samples\": [\n          \"2017-11-05 01:01:04\"\n        ],\n        \"semantic_type\": \"\",\n        \"description\": \"\"\n      }\n    },\n    {\n      \"column\": \"Start station number\",\n      \"properties\": {\n        \"dtype\": \"number\",\n        \"std\": null,\n        \"min\": 31615,\n        \"max\": 31615,\n        \"num_unique_values\": 1,\n        \"samples\": [\n          31615\n        ],\n        \"semantic_type\": \"\",\n        \"description\": \"\"\n      }\n    },\n    {\n      \"column\": \"Start station\",\n      \"properties\": {\n        \"dtype\": \"string\",\n        \"num_unique_values\": 1,\n        \"samples\": [\n          \"6th & H St NE\"\n        ],\n        \"semantic_type\": \"\",\n        \"description\": \"\"\n      }\n    },\n    {\n      \"column\": \"End station number\",\n      \"properties\": {\n        \"dtype\": \"number\",\n        \"std\": null,\n        \"min\": 31627,\n        \"max\": 31627,\n        \"num_unique_values\": 1,\n        \"samples\": [\n          31627\n        ],\n        \"semantic_type\": \"\",\n        \"description\": \"\"\n      }\n    },\n    {\n      \"column\": \"End station\",\n      \"properties\": {\n        \"dtype\": \"string\",\n        \"num_unique_values\": 1,\n        \"samples\": [\n          \"3rd & M St NE\"\n        ],\n        \"semantic_type\": \"\",\n        \"description\": \"\"\n      }\n    },\n    {\n      \"column\": \"Bike number\",\n      \"properties\": {\n        \"dtype\": \"string\",\n        \"num_unique_values\": 1,\n        \"samples\": [\n          \"W20529\"\n        ],\n        \"semantic_type\": \"\",\n        \"description\": \"\"\n      }\n    },\n    {\n      \"column\": \"Member type\",\n      \"properties\": {\n        \"dtype\": \"string\",\n        \"num_unique_values\": 1,\n        \"samples\": [\n          \"Member\"\n        ],\n        \"semantic_type\": \"\",\n        \"description\": \"\"\n      }\n    },\n    {\n      \"column\": \"duration\",\n      \"properties\": {\n        \"dtype\": \"number\",\n        \"std\": null,\n        \"min\": -3346.0,\n        \"max\": -3346.0,\n        \"num_unique_values\": 1,\n        \"samples\": [\n          -3346.0\n        ],\n        \"semantic_type\": \"\",\n        \"description\": \"\"\n      }\n    }\n  ]\n}"
            }
          },
          "metadata": {},
          "execution_count": 47
        }
      ]
    },
    {
      "cell_type": "markdown",
      "source": [
        "It is related to November when hour changes for the purpose of day_light"
      ],
      "metadata": {
        "id": "QCI7GfTEGppE"
      }
    },
    {
      "cell_type": "code",
      "source": [
        "onebike_datetimes['duration'].max()"
      ],
      "metadata": {
        "colab": {
          "base_uri": "https://localhost:8080/"
        },
        "id": "X5-YJaKCGDao",
        "outputId": "52e73871-467f-4a65-c599-df9f73860ecf"
      },
      "execution_count": null,
      "outputs": [
        {
          "output_type": "execute_result",
          "data": {
            "text/plain": [
              "76913.0"
            ]
          },
          "metadata": {},
          "execution_count": 45
        }
      ]
    },
    {
      "cell_type": "markdown",
      "source": [
        "# **TIME ZONE**\n",
        "Because the United Kingdom was the first to standardize its time, everyone in the world sets their clocks relative to the original historical UK standard. This standard time is called UTC. Because all clocks are set relative to UTC, we can compare time around the world. Generally, clocks west of the UK are set earlier than UTC, and clocks east of the UK are set later than UTC."
      ],
      "metadata": {
        "id": "I5NHuVePHMVd"
      }
    },
    {
      "cell_type": "code",
      "source": [
        "# import relevent classes\n",
        "from datetime import datetime, timedelta, timezone\n",
        "\n",
        "# US eastern Standard time zone UTC -5\n",
        "ET = timezone(timedelta (hours = -5))\n",
        "# Time_zone aware datetime\n",
        "dt = datetime(2017, 12, 30, 15,9,3 , tzinfo = ET)\n",
        "print(dt)"
      ],
      "metadata": {
        "colab": {
          "base_uri": "https://localhost:8080/"
        },
        "id": "gQeuaNJuGJAi",
        "outputId": "73e3939d-6a48-45ff-ab9c-894fd628a5e2"
      },
      "execution_count": null,
      "outputs": [
        {
          "output_type": "stream",
          "name": "stdout",
          "text": [
            "2017-12-30 15:09:03-05:00\n"
          ]
        }
      ]
    },
    {
      "cell_type": "code",
      "source": [
        "# let's create a timezone for india UTC+5:30\n",
        "IST = timezone(timedelta (hours = 5, minutes = 30))\n",
        "print(dt.astimezone(IST))"
      ],
      "metadata": {
        "colab": {
          "base_uri": "https://localhost:8080/"
        },
        "id": "1RZL79OUIbfm",
        "outputId": "3ee98600-5591-48b2-83c0-d7ce3064e688"
      },
      "execution_count": null,
      "outputs": [
        {
          "output_type": "stream",
          "name": "stdout",
          "text": [
            "2017-12-31 01:39:03+05:30\n"
          ]
        }
      ]
    },
    {
      "cell_type": "code",
      "source": [
        "dt.replace(tzinfo = timezone.utc)"
      ],
      "metadata": {
        "colab": {
          "base_uri": "https://localhost:8080/"
        },
        "id": "hEBfLhGmJMY6",
        "outputId": "17804a93-681d-4a66-81f1-eee749b687de"
      },
      "execution_count": null,
      "outputs": [
        {
          "output_type": "execute_result",
          "data": {
            "text/plain": [
              "datetime.datetime(2017, 12, 30, 15, 9, 3, tzinfo=datetime.timezone.utc)"
            ]
          },
          "metadata": {},
          "execution_count": 51
        }
      ]
    },
    {
      "cell_type": "code",
      "source": [
        "dt.astimezone(timezone.utc)"
      ],
      "metadata": {
        "colab": {
          "base_uri": "https://localhost:8080/"
        },
        "id": "w5lXhF2AKa0A",
        "outputId": "f257e0a5-49bb-422e-a27f-821de96f5ac8"
      },
      "execution_count": null,
      "outputs": [
        {
          "output_type": "execute_result",
          "data": {
            "text/plain": [
              "datetime.datetime(2017, 12, 30, 20, 9, 3, tzinfo=datetime.timezone.utc)"
            ]
          },
          "metadata": {},
          "execution_count": 53
        }
      ]
    },
    {
      "cell_type": "code",
      "source": [
        "#Import timezone. Set the tzinfo to UTC, without using timedelta\n",
        "from datetime import datetime, timedelta, timezone\n",
        "\n",
        "tz = timezone.utc\n",
        "## October 1, 2017 at 15:26:26, UTC\n",
        "dt = datetime(2017, 10, 1, 15, 26, 26, tzinfo = tz)\n",
        "dt.isoformat()\n"
      ],
      "metadata": {
        "colab": {
          "base_uri": "https://localhost:8080/",
          "height": 35
        },
        "id": "4xQSy5NJLI8E",
        "outputId": "2a176499-c9fa-4bd6-e38a-e55108b417bc"
      },
      "execution_count": null,
      "outputs": [
        {
          "output_type": "execute_result",
          "data": {
            "text/plain": [
              "'2017-10-01T15:26:26+00:00'"
            ],
            "application/vnd.google.colaboratory.intrinsic+json": {
              "type": "string"
            }
          },
          "metadata": {},
          "execution_count": 57
        }
      ]
    },
    {
      "cell_type": "code",
      "source": [
        "# Create a timezone for Pacific Standard Time, or UTC-8\n",
        "ptz = timezone(timedelta(hours = -8))\n",
        "dt = datetime(2017, 10, 1, 15, 26, 26, tzinfo = ptz)\n",
        "dt.isoformat()"
      ],
      "metadata": {
        "colab": {
          "base_uri": "https://localhost:8080/",
          "height": 35
        },
        "id": "t_ybsfg9L8vc",
        "outputId": "452b7547-eb8e-4615-f91d-90dae92fa468"
      },
      "execution_count": null,
      "outputs": [
        {
          "output_type": "execute_result",
          "data": {
            "text/plain": [
              "'2017-10-01T15:26:26-08:00'"
            ],
            "application/vnd.google.colaboratory.intrinsic+json": {
              "type": "string"
            }
          },
          "metadata": {},
          "execution_count": 59
        }
      ]
    },
    {
      "cell_type": "markdown",
      "source": [
        "**Now let's have the time of start and end for the bike**"
      ],
      "metadata": {
        "id": "mT-IKr8OOQ0U"
      }
    },
    {
      "cell_type": "code",
      "source": [
        "# set timezone to  corresponding to UTC-4\n",
        "ptz = timezone(timedelta(hours = -4))\n",
        "onebike_datetimes['Start date'] = [ s_date.replace(tzinfo = ptz) for s_date in onebike_datetimes['Start date']]\n",
        "onebike_datetimes['End date'] = [ e_date.replace(tzinfo = ptz) for e_date in onebike_datetimes['End date']]"
      ],
      "metadata": {
        "id": "8bOlE9feN3EA"
      },
      "execution_count": null,
      "outputs": []
    },
    {
      "cell_type": "code",
      "source": [
        "# chekc what is the first 5 rows of start time in UTC\n",
        "[ s_date.astimezone(timezone.utc).isoformat() for s_date in onebike_datetimes['Start date'].head()]"
      ],
      "metadata": {
        "colab": {
          "base_uri": "https://localhost:8080/"
        },
        "id": "97k61f67O4a8",
        "outputId": "83ddc941-4b5c-41e7-c1f4-44dc8b8e5abd"
      },
      "execution_count": null,
      "outputs": [
        {
          "output_type": "execute_result",
          "data": {
            "text/plain": [
              "['2017-10-01T19:23:25+00:00',\n",
              " '2017-10-01T19:42:57+00:00',\n",
              " '2017-10-02T10:37:10+00:00',\n",
              " '2017-10-02T12:56:45+00:00',\n",
              " '2017-10-02T22:23:48+00:00']"
            ]
          },
          "metadata": {},
          "execution_count": 84
        }
      ]
    },
    {
      "cell_type": "markdown",
      "source": [
        "### **Day light saving time**"
      ],
      "metadata": {
        "id": "J2LVpFYkWDt_"
      }
    },
    {
      "cell_type": "code",
      "source": [
        "# first lets solve it manualy\n",
        "t1 = datetime(2017,3,12,1,59,59)\n",
        "t2 = datetime(2017,3,12,3,0,0)\n",
        "(t2-t1).total_seconds()"
      ],
      "metadata": {
        "colab": {
          "base_uri": "https://localhost:8080/"
        },
        "id": "ao8f16KMR0S6",
        "outputId": "25266d50-8c59-4376-a09a-231179cadf88"
      },
      "execution_count": null,
      "outputs": [
        {
          "output_type": "execute_result",
          "data": {
            "text/plain": [
              "3601.0"
            ]
          },
          "metadata": {},
          "execution_count": 12
        }
      ]
    },
    {
      "cell_type": "code",
      "source": [
        "# first we shift both time to utc timezone\n",
        "EST = timezone(timedelta(hours = -5))\n",
        "EDT = timezone(timedelta(hours = -4))\n"
      ],
      "metadata": {
        "id": "jMGhm8-0XLjY"
      },
      "execution_count": null,
      "outputs": []
    },
    {
      "cell_type": "code",
      "source": [
        "# first lets solve it manualy\n",
        "t1 = datetime(2017,3,12,1,59,59, tzinfo = EST)\n",
        "t2 = datetime(2017,3,12,3,0,0 ,tzinfo = EDT)\n",
        "(t2-t1).total_seconds()"
      ],
      "metadata": {
        "colab": {
          "base_uri": "https://localhost:8080/"
        },
        "id": "_L0yaasEkZyJ",
        "outputId": "bace6d55-ffb5-46b2-e363-82257a364f17"
      },
      "execution_count": null,
      "outputs": [
        {
          "output_type": "execute_result",
          "data": {
            "text/plain": [
              "1.0"
            ]
          },
          "metadata": {},
          "execution_count": 15
        }
      ]
    },
    {
      "cell_type": "markdown",
      "source": [
        "**above result is due to daylight saving**"
      ],
      "metadata": {
        "id": "AnzL5M4GlE1y"
      }
    },
    {
      "cell_type": "code",
      "source": [
        "# best way to handle the daylight saiving issue is dateutil library\n",
        "from dateutil import tz\n",
        "eastern = tz.gettz('America/New_York')\n",
        "t1 = datetime(2017,3,12,1,59,59, tzinfo = eastern)\n",
        "t2 = datetime(2017,3,12,3,0,0, tzinfo = eastern)"
      ],
      "metadata": {
        "id": "W41adg1Lk_fp"
      },
      "execution_count": null,
      "outputs": []
    },
    {
      "cell_type": "code",
      "source": [
        "t2-t1"
      ],
      "metadata": {
        "colab": {
          "base_uri": "https://localhost:8080/"
        },
        "id": "bcTVPBsQmSvw",
        "outputId": "a4c472fb-21b5-45cf-b230-c3ad142d0978"
      },
      "execution_count": null,
      "outputs": [
        {
          "output_type": "execute_result",
          "data": {
            "text/plain": [
              "datetime.timedelta(seconds=3601)"
            ]
          },
          "metadata": {},
          "execution_count": 19
        }
      ]
    },
    {
      "cell_type": "markdown",
      "source": [
        "Ending daylight saving time"
      ],
      "metadata": {
        "id": "j6lehLnOgpaI"
      }
    },
    {
      "cell_type": "code",
      "source": [
        "from dateutil import tz\n",
        "from datetime import datetime, timedelta, timezone\n",
        "eastern = tz.gettz('US/Eastern')\n",
        "# 2017-11-05 01:00:00\n",
        "first_1am = datetime(2017,11,5,1,0,0, tzinfo = eastern)\n",
        "# lets check if this time is ambigious\n",
        "tz.datetime_ambiguous(first_1am)"
      ],
      "metadata": {
        "colab": {
          "base_uri": "https://localhost:8080/"
        },
        "id": "S3ms2zkrgt5Y",
        "outputId": "c853613c-a736-4427-dc8e-b3713e3d3b6e"
      },
      "execution_count": null,
      "outputs": [
        {
          "output_type": "execute_result",
          "data": {
            "text/plain": [
              "True"
            ]
          },
          "metadata": {},
          "execution_count": 2
        }
      ]
    },
    {
      "cell_type": "code",
      "source": [
        " # using unfold\n",
        " second_1am = datetime(2017,11,5,1,0,0, tzinfo = eastern) # same as the first_1am\n",
        " second_1am = tz.enfold(second_1am)"
      ],
      "metadata": {
        "id": "o7gfYTw3mUhm"
      },
      "execution_count": null,
      "outputs": []
    },
    {
      "cell_type": "code",
      "source": [
        "first_1am - second_1am"
      ],
      "metadata": {
        "colab": {
          "base_uri": "https://localhost:8080/"
        },
        "id": "kdKefm47k2FR",
        "outputId": "b721dc6d-d879-4ab6-9c0b-8143d70c702c"
      },
      "execution_count": null,
      "outputs": [
        {
          "output_type": "execute_result",
          "data": {
            "text/plain": [
              "datetime.timedelta(0)"
            ]
          },
          "metadata": {},
          "execution_count": 4
        }
      ]
    },
    {
      "cell_type": "code",
      "source": [
        "########### it shows nothing , so enfold does not show any extra data and to see the ambiguity we should return the dates to UTC\n",
        "first_1am = first_1am.astimezone(tz.UTC)\n",
        "second_1am = second_1am.astimezone(tz.UTC)\n",
        "(second_1am -first_1am).total_seconds()\n"
      ],
      "metadata": {
        "colab": {
          "base_uri": "https://localhost:8080/"
        },
        "id": "BaCV6lNek7DY",
        "outputId": "482541ae-8adb-4fce-c157-add2f7dd810c"
      },
      "execution_count": null,
      "outputs": [
        {
          "output_type": "execute_result",
          "data": {
            "text/plain": [
              "3600.0"
            ]
          },
          "metadata": {},
          "execution_count": 5
        }
      ]
    },
    {
      "cell_type": "markdown",
      "source": [
        "**date time in pandas**"
      ],
      "metadata": {
        "id": "EQWrD-m_nMEB"
      }
    },
    {
      "cell_type": "code",
      "source": [
        "import pandas as pd\n",
        "rides = pd.read_csv('https://raw.githubusercontent.com/nafis-git/data_science_path/main/data/capital-onebike.csv', parse_dates = ['Start date', 'End date'])\n",
        "# or in case we need to define the format of the datetime we can chnage the datetime column format with pd.to_datetime(column, forma = '%Y=....')\n",
        "rides.head()"
      ],
      "metadata": {
        "colab": {
          "base_uri": "https://localhost:8080/",
          "height": 206
        },
        "id": "gIGWZ7-PlptP",
        "outputId": "be4cbdd8-4c44-408e-dd2a-28fe7556a377"
      },
      "execution_count": 1,
      "outputs": [
        {
          "output_type": "execute_result",
          "data": {
            "text/plain": [
              "           Start date            End date  Start station number  \\\n",
              "0 2017-10-01 15:23:25 2017-10-01 15:26:26                 31038   \n",
              "1 2017-10-01 15:42:57 2017-10-01 17:49:59                 31036   \n",
              "2 2017-10-02 06:37:10 2017-10-02 06:42:53                 31036   \n",
              "3 2017-10-02 08:56:45 2017-10-02 09:18:03                 31037   \n",
              "4 2017-10-02 18:23:48 2017-10-02 18:45:05                 31295   \n",
              "\n",
              "                          Start station  End station number  \\\n",
              "0                  Glebe Rd & 11th St N               31036   \n",
              "1         George Mason Dr & Wilson Blvd               31036   \n",
              "2         George Mason Dr & Wilson Blvd               31037   \n",
              "3  Ballston Metro / N Stuart & 9th St N               31295   \n",
              "4                     Potomac & M St NW               31230   \n",
              "\n",
              "                            End station Bike number Member type  \n",
              "0         George Mason Dr & Wilson Blvd      W20529      Member  \n",
              "1         George Mason Dr & Wilson Blvd      W20529      Casual  \n",
              "2  Ballston Metro / N Stuart & 9th St N      W20529      Member  \n",
              "3                     Potomac & M St NW      W20529      Member  \n",
              "4         Metro Center / 12th & G St NW      W20529      Member  "
            ],
            "text/html": [
              "\n",
              "  <div id=\"df-9d427987-7ca1-49f9-a178-7fed242f7a82\" class=\"colab-df-container\">\n",
              "    <div>\n",
              "<style scoped>\n",
              "    .dataframe tbody tr th:only-of-type {\n",
              "        vertical-align: middle;\n",
              "    }\n",
              "\n",
              "    .dataframe tbody tr th {\n",
              "        vertical-align: top;\n",
              "    }\n",
              "\n",
              "    .dataframe thead th {\n",
              "        text-align: right;\n",
              "    }\n",
              "</style>\n",
              "<table border=\"1\" class=\"dataframe\">\n",
              "  <thead>\n",
              "    <tr style=\"text-align: right;\">\n",
              "      <th></th>\n",
              "      <th>Start date</th>\n",
              "      <th>End date</th>\n",
              "      <th>Start station number</th>\n",
              "      <th>Start station</th>\n",
              "      <th>End station number</th>\n",
              "      <th>End station</th>\n",
              "      <th>Bike number</th>\n",
              "      <th>Member type</th>\n",
              "    </tr>\n",
              "  </thead>\n",
              "  <tbody>\n",
              "    <tr>\n",
              "      <th>0</th>\n",
              "      <td>2017-10-01 15:23:25</td>\n",
              "      <td>2017-10-01 15:26:26</td>\n",
              "      <td>31038</td>\n",
              "      <td>Glebe Rd &amp; 11th St N</td>\n",
              "      <td>31036</td>\n",
              "      <td>George Mason Dr &amp; Wilson Blvd</td>\n",
              "      <td>W20529</td>\n",
              "      <td>Member</td>\n",
              "    </tr>\n",
              "    <tr>\n",
              "      <th>1</th>\n",
              "      <td>2017-10-01 15:42:57</td>\n",
              "      <td>2017-10-01 17:49:59</td>\n",
              "      <td>31036</td>\n",
              "      <td>George Mason Dr &amp; Wilson Blvd</td>\n",
              "      <td>31036</td>\n",
              "      <td>George Mason Dr &amp; Wilson Blvd</td>\n",
              "      <td>W20529</td>\n",
              "      <td>Casual</td>\n",
              "    </tr>\n",
              "    <tr>\n",
              "      <th>2</th>\n",
              "      <td>2017-10-02 06:37:10</td>\n",
              "      <td>2017-10-02 06:42:53</td>\n",
              "      <td>31036</td>\n",
              "      <td>George Mason Dr &amp; Wilson Blvd</td>\n",
              "      <td>31037</td>\n",
              "      <td>Ballston Metro / N Stuart &amp; 9th St N</td>\n",
              "      <td>W20529</td>\n",
              "      <td>Member</td>\n",
              "    </tr>\n",
              "    <tr>\n",
              "      <th>3</th>\n",
              "      <td>2017-10-02 08:56:45</td>\n",
              "      <td>2017-10-02 09:18:03</td>\n",
              "      <td>31037</td>\n",
              "      <td>Ballston Metro / N Stuart &amp; 9th St N</td>\n",
              "      <td>31295</td>\n",
              "      <td>Potomac &amp; M St NW</td>\n",
              "      <td>W20529</td>\n",
              "      <td>Member</td>\n",
              "    </tr>\n",
              "    <tr>\n",
              "      <th>4</th>\n",
              "      <td>2017-10-02 18:23:48</td>\n",
              "      <td>2017-10-02 18:45:05</td>\n",
              "      <td>31295</td>\n",
              "      <td>Potomac &amp; M St NW</td>\n",
              "      <td>31230</td>\n",
              "      <td>Metro Center / 12th &amp; G St NW</td>\n",
              "      <td>W20529</td>\n",
              "      <td>Member</td>\n",
              "    </tr>\n",
              "  </tbody>\n",
              "</table>\n",
              "</div>\n",
              "    <div class=\"colab-df-buttons\">\n",
              "\n",
              "  <div class=\"colab-df-container\">\n",
              "    <button class=\"colab-df-convert\" onclick=\"convertToInteractive('df-9d427987-7ca1-49f9-a178-7fed242f7a82')\"\n",
              "            title=\"Convert this dataframe to an interactive table.\"\n",
              "            style=\"display:none;\">\n",
              "\n",
              "  <svg xmlns=\"http://www.w3.org/2000/svg\" height=\"24px\" viewBox=\"0 -960 960 960\">\n",
              "    <path d=\"M120-120v-720h720v720H120Zm60-500h600v-160H180v160Zm220 220h160v-160H400v160Zm0 220h160v-160H400v160ZM180-400h160v-160H180v160Zm440 0h160v-160H620v160ZM180-180h160v-160H180v160Zm440 0h160v-160H620v160Z\"/>\n",
              "  </svg>\n",
              "    </button>\n",
              "\n",
              "  <style>\n",
              "    .colab-df-container {\n",
              "      display:flex;\n",
              "      gap: 12px;\n",
              "    }\n",
              "\n",
              "    .colab-df-convert {\n",
              "      background-color: #E8F0FE;\n",
              "      border: none;\n",
              "      border-radius: 50%;\n",
              "      cursor: pointer;\n",
              "      display: none;\n",
              "      fill: #1967D2;\n",
              "      height: 32px;\n",
              "      padding: 0 0 0 0;\n",
              "      width: 32px;\n",
              "    }\n",
              "\n",
              "    .colab-df-convert:hover {\n",
              "      background-color: #E2EBFA;\n",
              "      box-shadow: 0px 1px 2px rgba(60, 64, 67, 0.3), 0px 1px 3px 1px rgba(60, 64, 67, 0.15);\n",
              "      fill: #174EA6;\n",
              "    }\n",
              "\n",
              "    .colab-df-buttons div {\n",
              "      margin-bottom: 4px;\n",
              "    }\n",
              "\n",
              "    [theme=dark] .colab-df-convert {\n",
              "      background-color: #3B4455;\n",
              "      fill: #D2E3FC;\n",
              "    }\n",
              "\n",
              "    [theme=dark] .colab-df-convert:hover {\n",
              "      background-color: #434B5C;\n",
              "      box-shadow: 0px 1px 3px 1px rgba(0, 0, 0, 0.15);\n",
              "      filter: drop-shadow(0px 1px 2px rgba(0, 0, 0, 0.3));\n",
              "      fill: #FFFFFF;\n",
              "    }\n",
              "  </style>\n",
              "\n",
              "    <script>\n",
              "      const buttonEl =\n",
              "        document.querySelector('#df-9d427987-7ca1-49f9-a178-7fed242f7a82 button.colab-df-convert');\n",
              "      buttonEl.style.display =\n",
              "        google.colab.kernel.accessAllowed ? 'block' : 'none';\n",
              "\n",
              "      async function convertToInteractive(key) {\n",
              "        const element = document.querySelector('#df-9d427987-7ca1-49f9-a178-7fed242f7a82');\n",
              "        const dataTable =\n",
              "          await google.colab.kernel.invokeFunction('convertToInteractive',\n",
              "                                                    [key], {});\n",
              "        if (!dataTable) return;\n",
              "\n",
              "        const docLinkHtml = 'Like what you see? Visit the ' +\n",
              "          '<a target=\"_blank\" href=https://colab.research.google.com/notebooks/data_table.ipynb>data table notebook</a>'\n",
              "          + ' to learn more about interactive tables.';\n",
              "        element.innerHTML = '';\n",
              "        dataTable['output_type'] = 'display_data';\n",
              "        await google.colab.output.renderOutput(dataTable, element);\n",
              "        const docLink = document.createElement('div');\n",
              "        docLink.innerHTML = docLinkHtml;\n",
              "        element.appendChild(docLink);\n",
              "      }\n",
              "    </script>\n",
              "  </div>\n",
              "\n",
              "\n",
              "<div id=\"df-b0828b76-8d77-401f-aae4-df67a1270699\">\n",
              "  <button class=\"colab-df-quickchart\" onclick=\"quickchart('df-b0828b76-8d77-401f-aae4-df67a1270699')\"\n",
              "            title=\"Suggest charts\"\n",
              "            style=\"display:none;\">\n",
              "\n",
              "<svg xmlns=\"http://www.w3.org/2000/svg\" height=\"24px\"viewBox=\"0 0 24 24\"\n",
              "     width=\"24px\">\n",
              "    <g>\n",
              "        <path d=\"M19 3H5c-1.1 0-2 .9-2 2v14c0 1.1.9 2 2 2h14c1.1 0 2-.9 2-2V5c0-1.1-.9-2-2-2zM9 17H7v-7h2v7zm4 0h-2V7h2v10zm4 0h-2v-4h2v4z\"/>\n",
              "    </g>\n",
              "</svg>\n",
              "  </button>\n",
              "\n",
              "<style>\n",
              "  .colab-df-quickchart {\n",
              "      --bg-color: #E8F0FE;\n",
              "      --fill-color: #1967D2;\n",
              "      --hover-bg-color: #E2EBFA;\n",
              "      --hover-fill-color: #174EA6;\n",
              "      --disabled-fill-color: #AAA;\n",
              "      --disabled-bg-color: #DDD;\n",
              "  }\n",
              "\n",
              "  [theme=dark] .colab-df-quickchart {\n",
              "      --bg-color: #3B4455;\n",
              "      --fill-color: #D2E3FC;\n",
              "      --hover-bg-color: #434B5C;\n",
              "      --hover-fill-color: #FFFFFF;\n",
              "      --disabled-bg-color: #3B4455;\n",
              "      --disabled-fill-color: #666;\n",
              "  }\n",
              "\n",
              "  .colab-df-quickchart {\n",
              "    background-color: var(--bg-color);\n",
              "    border: none;\n",
              "    border-radius: 50%;\n",
              "    cursor: pointer;\n",
              "    display: none;\n",
              "    fill: var(--fill-color);\n",
              "    height: 32px;\n",
              "    padding: 0;\n",
              "    width: 32px;\n",
              "  }\n",
              "\n",
              "  .colab-df-quickchart:hover {\n",
              "    background-color: var(--hover-bg-color);\n",
              "    box-shadow: 0 1px 2px rgba(60, 64, 67, 0.3), 0 1px 3px 1px rgba(60, 64, 67, 0.15);\n",
              "    fill: var(--button-hover-fill-color);\n",
              "  }\n",
              "\n",
              "  .colab-df-quickchart-complete:disabled,\n",
              "  .colab-df-quickchart-complete:disabled:hover {\n",
              "    background-color: var(--disabled-bg-color);\n",
              "    fill: var(--disabled-fill-color);\n",
              "    box-shadow: none;\n",
              "  }\n",
              "\n",
              "  .colab-df-spinner {\n",
              "    border: 2px solid var(--fill-color);\n",
              "    border-color: transparent;\n",
              "    border-bottom-color: var(--fill-color);\n",
              "    animation:\n",
              "      spin 1s steps(1) infinite;\n",
              "  }\n",
              "\n",
              "  @keyframes spin {\n",
              "    0% {\n",
              "      border-color: transparent;\n",
              "      border-bottom-color: var(--fill-color);\n",
              "      border-left-color: var(--fill-color);\n",
              "    }\n",
              "    20% {\n",
              "      border-color: transparent;\n",
              "      border-left-color: var(--fill-color);\n",
              "      border-top-color: var(--fill-color);\n",
              "    }\n",
              "    30% {\n",
              "      border-color: transparent;\n",
              "      border-left-color: var(--fill-color);\n",
              "      border-top-color: var(--fill-color);\n",
              "      border-right-color: var(--fill-color);\n",
              "    }\n",
              "    40% {\n",
              "      border-color: transparent;\n",
              "      border-right-color: var(--fill-color);\n",
              "      border-top-color: var(--fill-color);\n",
              "    }\n",
              "    60% {\n",
              "      border-color: transparent;\n",
              "      border-right-color: var(--fill-color);\n",
              "    }\n",
              "    80% {\n",
              "      border-color: transparent;\n",
              "      border-right-color: var(--fill-color);\n",
              "      border-bottom-color: var(--fill-color);\n",
              "    }\n",
              "    90% {\n",
              "      border-color: transparent;\n",
              "      border-bottom-color: var(--fill-color);\n",
              "    }\n",
              "  }\n",
              "</style>\n",
              "\n",
              "  <script>\n",
              "    async function quickchart(key) {\n",
              "      const quickchartButtonEl =\n",
              "        document.querySelector('#' + key + ' button');\n",
              "      quickchartButtonEl.disabled = true;  // To prevent multiple clicks.\n",
              "      quickchartButtonEl.classList.add('colab-df-spinner');\n",
              "      try {\n",
              "        const charts = await google.colab.kernel.invokeFunction(\n",
              "            'suggestCharts', [key], {});\n",
              "      } catch (error) {\n",
              "        console.error('Error during call to suggestCharts:', error);\n",
              "      }\n",
              "      quickchartButtonEl.classList.remove('colab-df-spinner');\n",
              "      quickchartButtonEl.classList.add('colab-df-quickchart-complete');\n",
              "    }\n",
              "    (() => {\n",
              "      let quickchartButtonEl =\n",
              "        document.querySelector('#df-b0828b76-8d77-401f-aae4-df67a1270699 button');\n",
              "      quickchartButtonEl.style.display =\n",
              "        google.colab.kernel.accessAllowed ? 'block' : 'none';\n",
              "    })();\n",
              "  </script>\n",
              "</div>\n",
              "    </div>\n",
              "  </div>\n"
            ],
            "application/vnd.google.colaboratory.intrinsic+json": {
              "type": "dataframe",
              "variable_name": "rides",
              "summary": "{\n  \"name\": \"rides\",\n  \"rows\": 290,\n  \"fields\": [\n    {\n      \"column\": \"Start date\",\n      \"properties\": {\n        \"dtype\": \"date\",\n        \"min\": \"2017-10-01 15:23:25\",\n        \"max\": \"2017-12-30 15:09:03\",\n        \"num_unique_values\": 290,\n        \"samples\": [\n          \"2017-10-21 12:24:09\",\n          \"2017-12-16 11:02:31\",\n          \"2017-10-08 15:54:12\"\n        ],\n        \"semantic_type\": \"\",\n        \"description\": \"\"\n      }\n    },\n    {\n      \"column\": \"End date\",\n      \"properties\": {\n        \"dtype\": \"date\",\n        \"min\": \"2017-10-01 15:26:26\",\n        \"max\": \"2017-12-30 15:19:13\",\n        \"num_unique_values\": 290,\n        \"samples\": [\n          \"2017-10-21 12:36:24\",\n          \"2017-12-16 11:05:04\",\n          \"2017-10-08 16:17:42\"\n        ],\n        \"semantic_type\": \"\",\n        \"description\": \"\"\n      }\n    },\n    {\n      \"column\": \"Start station number\",\n      \"properties\": {\n        \"dtype\": \"number\",\n        \"std\": 183,\n        \"min\": 31014,\n        \"max\": 31706,\n        \"num_unique_values\": 156,\n        \"samples\": [\n          31305,\n          31626,\n          31265\n        ],\n        \"semantic_type\": \"\",\n        \"description\": \"\"\n      }\n    },\n    {\n      \"column\": \"Start station\",\n      \"properties\": {\n        \"dtype\": \"string\",\n        \"num_unique_values\": 156,\n        \"samples\": [\n          \"Connecticut Ave & Newark St NW / Cleveland Park\",\n          \"15th St & Massachusetts Ave SE\",\n          \"5th St & Massachusetts Ave NW\"\n        ],\n        \"semantic_type\": \"\",\n        \"description\": \"\"\n      }\n    },\n    {\n      \"column\": \"End station number\",\n      \"properties\": {\n        \"dtype\": \"number\",\n        \"std\": 184,\n        \"min\": 31014,\n        \"max\": 31805,\n        \"num_unique_values\": 151,\n        \"samples\": [\n          31701,\n          31278,\n          31100\n        ],\n        \"semantic_type\": \"\",\n        \"description\": \"\"\n      }\n    },\n    {\n      \"column\": \"End station\",\n      \"properties\": {\n        \"dtype\": \"string\",\n        \"num_unique_values\": 151,\n        \"samples\": [\n          \"Branch & Pennsylvania Ave SE\",\n          \"18th & R St NW\",\n          \"19th St & Pennsylvania Ave NW\"\n        ],\n        \"semantic_type\": \"\",\n        \"description\": \"\"\n      }\n    },\n    {\n      \"column\": \"Bike number\",\n      \"properties\": {\n        \"dtype\": \"category\",\n        \"num_unique_values\": 1,\n        \"samples\": [\n          \"W20529\"\n        ],\n        \"semantic_type\": \"\",\n        \"description\": \"\"\n      }\n    },\n    {\n      \"column\": \"Member type\",\n      \"properties\": {\n        \"dtype\": \"category\",\n        \"num_unique_values\": 2,\n        \"samples\": [\n          \"Casual\"\n        ],\n        \"semantic_type\": \"\",\n        \"description\": \"\"\n      }\n    }\n  ]\n}"
            }
          },
          "metadata": {},
          "execution_count": 1
        }
      ]
    },
    {
      "cell_type": "code",
      "source": [
        "rides['Duration'] = rides['End date'] - rides['Start date']\n",
        "rides['Duration_second'] = rides['Duration'].dt.total_seconds()"
      ],
      "metadata": {
        "id": "F9FyG88vp8OR"
      },
      "execution_count": 2,
      "outputs": []
    },
    {
      "cell_type": "code",
      "source": [
        "# resample method  group by time\n",
        "rides.resample('M', on = 'Start date')['Duration_second'].mean()"
      ],
      "metadata": {
        "colab": {
          "base_uri": "https://localhost:8080/"
        },
        "id": "45z_zVYOnvV5",
        "outputId": "beeed102-b1a2-4820-939f-7cab156829b0"
      },
      "execution_count": 3,
      "outputs": [
        {
          "output_type": "execute_result",
          "data": {
            "text/plain": [
              "Start date\n",
              "2017-10-31    1886.453704\n",
              "2017-11-30     854.174757\n",
              "2017-12-31     635.101266\n",
              "Freq: M, Name: Duration_second, dtype: float64"
            ]
          },
          "metadata": {},
          "execution_count": 3
        }
      ]
    },
    {
      "cell_type": "code",
      "source": [
        "# plot it\n",
        "rides.resample('M', on = 'Start date')['Duration_second'].mean().plot()"
      ],
      "metadata": {
        "colab": {
          "base_uri": "https://localhost:8080/",
          "height": 481
        },
        "id": "GltBX8e9qr3p",
        "outputId": "99e0778d-15b6-4ff5-920d-b482939e8d0e"
      },
      "execution_count": 4,
      "outputs": [
        {
          "output_type": "execute_result",
          "data": {
            "text/plain": [
              "<Axes: xlabel='Start date'>"
            ]
          },
          "metadata": {},
          "execution_count": 4
        },
        {
          "output_type": "display_data",
          "data": {
            "text/plain": [
              "<Figure size 640x480 with 1 Axes>"
            ],
            "image/png": "[encoded data removed]"
          },
          "metadata": {}
        }
      ]
    },
    {
      "cell_type": "code",
      "source": [
        "# Create joyrides\n",
        "joyrides = (rides['Start station'] == rides['End station'])\n",
        "\n",
        "# Total number of joyrides\n",
        "print(\"{} rides were joyrides\".format(joyrides.sum()))\n",
        "\n",
        "# Median of all rides\n",
        "print(rides['Duration'].median())\n",
        "\n"
      ],
      "metadata": {
        "colab": {
          "base_uri": "https://localhost:8080/"
        },
        "id": "XIS7R-OWrPPR",
        "outputId": "df1ff1e7-6206-4730-f661-1916855b45e2"
      },
      "execution_count": 5,
      "outputs": [
        {
          "output_type": "stream",
          "name": "stdout",
          "text": [
            "6 rides were joyrides\n",
            "0 days 00:11:00\n"
          ]
        }
      ]
    },
    {
      "cell_type": "code",
      "source": [
        "# Median of joyrides\n",
        "print(rides[joyrides]['Duration'].median())"
      ],
      "metadata": {
        "colab": {
          "base_uri": "https://localhost:8080/"
        },
        "id": "G2TY24ljrkTp",
        "outputId": "7e822b08-8936-49c7-e689-3a2f2a3c9796"
      },
      "execution_count": 6,
      "outputs": [
        {
          "output_type": "stream",
          "name": "stdout",
          "text": [
            "0 days 00:44:02.500000\n"
          ]
        }
      ]
    },
    {
      "cell_type": "code",
      "source": [
        "# Group rides by member type, and resample to the month\n",
        "grouped = rides.groupby('Member type')\\\n",
        "  .resample('M', on = 'Start date')\n",
        "\n",
        "# Print the median duration for each group\n",
        "print(grouped['Duration'].median())"
      ],
      "metadata": {
        "colab": {
          "base_uri": "https://localhost:8080/"
        },
        "id": "1Ct7_u1irz4x",
        "outputId": "a4b26895-f381-4fe2-94a3-8865a37f0bde"
      },
      "execution_count": 7,
      "outputs": [
        {
          "output_type": "stream",
          "name": "stdout",
          "text": [
            "Member type  Start date\n",
            "Casual       2017-10-31          0 days 00:27:16\n",
            "             2017-11-30   0 days 00:19:19.500000\n",
            "             2017-12-31          0 days 00:14:10\n",
            "Member       2017-10-31          0 days 00:11:11\n",
            "             2017-11-30          0 days 00:10:55\n",
            "             2017-12-31   0 days 00:06:27.500000\n",
            "Name: Duration, dtype: timedelta64[ns]\n"
          ]
        }
      ]
    },
    {
      "cell_type": "markdown",
      "source": [
        "It looks like casual riders consistently took longer rides, but that both groups took shorter rides as the months went by. Note that, by combining grouping and resampling, you can answer a lot of questions about nearly any data set that includes time as a feature. Keep in mind that you can also group by more than one column at once."
      ],
      "metadata": {
        "id": "2AILLWXJsKSK"
      }
    },
    {
      "cell_type": "code",
      "source": [
        "rides['Duration'].dt.total_seconds().min()"
      ],
      "metadata": {
        "colab": {
          "base_uri": "https://localhost:8080/"
        },
        "id": "al1iq5NGsEqp",
        "outputId": "d513b198-e3e8-413f-bfb8-93d901d48a19"
      },
      "execution_count": 8,
      "outputs": [
        {
          "output_type": "execute_result",
          "data": {
            "text/plain": [
              "-3346.0"
            ]
          },
          "metadata": {},
          "execution_count": 8
        }
      ]
    },
    {
      "cell_type": "code",
      "source": [
        "##!!!! it's negative due to daylight saving\n",
        "## the method in pandas is dt.tz_localize('')\n",
        "rides['Start date'].head(3)\n"
      ],
      "metadata": {
        "id": "_k4tYLY_sl2Z",
        "colab": {
          "base_uri": "https://localhost:8080/"
        },
        "outputId": "f0063383-92b4-4e3a-e504-45125d9b8b93"
      },
      "execution_count": 9,
      "outputs": [
        {
          "output_type": "execute_result",
          "data": {
            "text/plain": [
              "0   2017-10-01 15:23:25\n",
              "1   2017-10-01 15:42:57\n",
              "2   2017-10-02 06:37:10\n",
              "Name: Start date, dtype: datetime64[ns]"
            ]
          },
          "metadata": {},
          "execution_count": 9
        }
      ]
    },
    {
      "cell_type": "code",
      "source": [
        "# size per group\n",
        "rides.groupby('Member type').size()"
      ],
      "metadata": {
        "colab": {
          "base_uri": "https://localhost:8080/"
        },
        "id": "aZJJo07CvcdQ",
        "outputId": "fa29dc4b-a329-4baa-e30d-add49447d905"
      },
      "execution_count": 14,
      "outputs": [
        {
          "output_type": "execute_result",
          "data": {
            "text/plain": [
              "Member type\n",
              "Casual     54\n",
              "Member    236\n",
              "dtype: int64"
            ]
          },
          "metadata": {},
          "execution_count": 14
        }
      ]
    },
    {
      "cell_type": "code",
      "source": [
        "# first ride per group\n",
        "rides.groupby('Member type').first()"
      ],
      "metadata": {
        "colab": {
          "base_uri": "https://localhost:8080/",
          "height": 143
        },
        "id": "5glub5_Rvim8",
        "outputId": "503e3256-258b-4022-ae69-e463e45fcd9b"
      },
      "execution_count": 15,
      "outputs": [
        {
          "output_type": "execute_result",
          "data": {
            "text/plain": [
              "                     Start date            End date  Start station number  \\\n",
              "Member type                                                                 \n",
              "Casual      2017-10-01 15:42:57 2017-10-01 17:49:59                 31036   \n",
              "Member      2017-10-01 15:23:25 2017-10-01 15:26:26                 31038   \n",
              "\n",
              "                             Start station  End station number  \\\n",
              "Member type                                                      \n",
              "Casual       George Mason Dr & Wilson Blvd               31036   \n",
              "Member                Glebe Rd & 11th St N               31036   \n",
              "\n",
              "                               End station Bike number        Duration  \\\n",
              "Member type                                                              \n",
              "Casual       George Mason Dr & Wilson Blvd      W20529 0 days 02:07:02   \n",
              "Member       George Mason Dr & Wilson Blvd      W20529 0 days 00:03:01   \n",
              "\n",
              "             Duration_second  \n",
              "Member type                   \n",
              "Casual                7622.0  \n",
              "Member                 181.0  "
            ],
            "text/html": [
              "\n",
              "  <div id=\"df-7bba8cee-ed95-40b4-a5c7-351080187369\" class=\"colab-df-container\">\n",
              "    <div>\n",
              "<style scoped>\n",
              "    .dataframe tbody tr th:only-of-type {\n",
              "        vertical-align: middle;\n",
              "    }\n",
              "\n",
              "    .dataframe tbody tr th {\n",
              "        vertical-align: top;\n",
              "    }\n",
              "\n",
              "    .dataframe thead th {\n",
              "        text-align: right;\n",
              "    }\n",
              "</style>\n",
              "<table border=\"1\" class=\"dataframe\">\n",
              "  <thead>\n",
              "    <tr style=\"text-align: right;\">\n",
              "      <th></th>\n",
              "      <th>Start date</th>\n",
              "      <th>End date</th>\n",
              "      <th>Start station number</th>\n",
              "      <th>Start station</th>\n",
              "      <th>End station number</th>\n",
              "      <th>End station</th>\n",
              "      <th>Bike number</th>\n",
              "      <th>Duration</th>\n",
              "      <th>Duration_second</th>\n",
              "    </tr>\n",
              "    <tr>\n",
              "      <th>Member type</th>\n",
              "      <th></th>\n",
              "      <th></th>\n",
              "      <th></th>\n",
              "      <th></th>\n",
              "      <th></th>\n",
              "      <th></th>\n",
              "      <th></th>\n",
              "      <th></th>\n",
              "      <th></th>\n",
              "    </tr>\n",
              "  </thead>\n",
              "  <tbody>\n",
              "    <tr>\n",
              "      <th>Casual</th>\n",
              "      <td>2017-10-01 15:42:57</td>\n",
              "      <td>2017-10-01 17:49:59</td>\n",
              "      <td>31036</td>\n",
              "      <td>George Mason Dr &amp; Wilson Blvd</td>\n",
              "      <td>31036</td>\n",
              "      <td>George Mason Dr &amp; Wilson Blvd</td>\n",
              "      <td>W20529</td>\n",
              "      <td>0 days 02:07:02</td>\n",
              "      <td>7622.0</td>\n",
              "    </tr>\n",
              "    <tr>\n",
              "      <th>Member</th>\n",
              "      <td>2017-10-01 15:23:25</td>\n",
              "      <td>2017-10-01 15:26:26</td>\n",
              "      <td>31038</td>\n",
              "      <td>Glebe Rd &amp; 11th St N</td>\n",
              "      <td>31036</td>\n",
              "      <td>George Mason Dr &amp; Wilson Blvd</td>\n",
              "      <td>W20529</td>\n",
              "      <td>0 days 00:03:01</td>\n",
              "      <td>181.0</td>\n",
              "    </tr>\n",
              "  </tbody>\n",
              "</table>\n",
              "</div>\n",
              "    <div class=\"colab-df-buttons\">\n",
              "\n",
              "  <div class=\"colab-df-container\">\n",
              "    <button class=\"colab-df-convert\" onclick=\"convertToInteractive('df-7bba8cee-ed95-40b4-a5c7-351080187369')\"\n",
              "            title=\"Convert this dataframe to an interactive table.\"\n",
              "            style=\"display:none;\">\n",
              "\n",
              "  <svg xmlns=\"http://www.w3.org/2000/svg\" height=\"24px\" viewBox=\"0 -960 960 960\">\n",
              "    <path d=\"M120-120v-720h720v720H120Zm60-500h600v-160H180v160Zm220 220h160v-160H400v160Zm0 220h160v-160H400v160ZM180-400h160v-160H180v160Zm440 0h160v-160H620v160ZM180-180h160v-160H180v160Zm440 0h160v-160H620v160Z\"/>\n",
              "  </svg>\n",
              "    </button>\n",
              "\n",
              "  <style>\n",
              "    .colab-df-container {\n",
              "      display:flex;\n",
              "      gap: 12px;\n",
              "    }\n",
              "\n",
              "    .colab-df-convert {\n",
              "      background-color: #E8F0FE;\n",
              "      border: none;\n",
              "      border-radius: 50%;\n",
              "      cursor: pointer;\n",
              "      display: none;\n",
              "      fill: #1967D2;\n",
              "      height: 32px;\n",
              "      padding: 0 0 0 0;\n",
              "      width: 32px;\n",
              "    }\n",
              "\n",
              "    .colab-df-convert:hover {\n",
              "      background-color: #E2EBFA;\n",
              "      box-shadow: 0px 1px 2px rgba(60, 64, 67, 0.3), 0px 1px 3px 1px rgba(60, 64, 67, 0.15);\n",
              "      fill: #174EA6;\n",
              "    }\n",
              "\n",
              "    .colab-df-buttons div {\n",
              "      margin-bottom: 4px;\n",
              "    }\n",
              "\n",
              "    [theme=dark] .colab-df-convert {\n",
              "      background-color: #3B4455;\n",
              "      fill: #D2E3FC;\n",
              "    }\n",
              "\n",
              "    [theme=dark] .colab-df-convert:hover {\n",
              "      background-color: #434B5C;\n",
              "      box-shadow: 0px 1px 3px 1px rgba(0, 0, 0, 0.15);\n",
              "      filter: drop-shadow(0px 1px 2px rgba(0, 0, 0, 0.3));\n",
              "      fill: #FFFFFF;\n",
              "    }\n",
              "  </style>\n",
              "\n",
              "    <script>\n",
              "      const buttonEl =\n",
              "        document.querySelector('#df-7bba8cee-ed95-40b4-a5c7-351080187369 button.colab-df-convert');\n",
              "      buttonEl.style.display =\n",
              "        google.colab.kernel.accessAllowed ? 'block' : 'none';\n",
              "\n",
              "      async function convertToInteractive(key) {\n",
              "        const element = document.querySelector('#df-7bba8cee-ed95-40b4-a5c7-351080187369');\n",
              "        const dataTable =\n",
              "          await google.colab.kernel.invokeFunction('convertToInteractive',\n",
              "                                                    [key], {});\n",
              "        if (!dataTable) return;\n",
              "\n",
              "        const docLinkHtml = 'Like what you see? Visit the ' +\n",
              "          '<a target=\"_blank\" href=https://colab.research.google.com/notebooks/data_table.ipynb>data table notebook</a>'\n",
              "          + ' to learn more about interactive tables.';\n",
              "        element.innerHTML = '';\n",
              "        dataTable['output_type'] = 'display_data';\n",
              "        await google.colab.output.renderOutput(dataTable, element);\n",
              "        const docLink = document.createElement('div');\n",
              "        docLink.innerHTML = docLinkHtml;\n",
              "        element.appendChild(docLink);\n",
              "      }\n",
              "    </script>\n",
              "  </div>\n",
              "\n",
              "\n",
              "<div id=\"df-8c919659-3113-490c-9d92-489f0702bc1c\">\n",
              "  <button class=\"colab-df-quickchart\" onclick=\"quickchart('df-8c919659-3113-490c-9d92-489f0702bc1c')\"\n",
              "            title=\"Suggest charts\"\n",
              "            style=\"display:none;\">\n",
              "\n",
              "<svg xmlns=\"http://www.w3.org/2000/svg\" height=\"24px\"viewBox=\"0 0 24 24\"\n",
              "     width=\"24px\">\n",
              "    <g>\n",
              "        <path d=\"M19 3H5c-1.1 0-2 .9-2 2v14c0 1.1.9 2 2 2h14c1.1 0 2-.9 2-2V5c0-1.1-.9-2-2-2zM9 17H7v-7h2v7zm4 0h-2V7h2v10zm4 0h-2v-4h2v4z\"/>\n",
              "    </g>\n",
              "</svg>\n",
              "  </button>\n",
              "\n",
              "<style>\n",
              "  .colab-df-quickchart {\n",
              "      --bg-color: #E8F0FE;\n",
              "      --fill-color: #1967D2;\n",
              "      --hover-bg-color: #E2EBFA;\n",
              "      --hover-fill-color: #174EA6;\n",
              "      --disabled-fill-color: #AAA;\n",
              "      --disabled-bg-color: #DDD;\n",
              "  }\n",
              "\n",
              "  [theme=dark] .colab-df-quickchart {\n",
              "      --bg-color: #3B4455;\n",
              "      --fill-color: #D2E3FC;\n",
              "      --hover-bg-color: #434B5C;\n",
              "      --hover-fill-color: #FFFFFF;\n",
              "      --disabled-bg-color: #3B4455;\n",
              "      --disabled-fill-color: #666;\n",
              "  }\n",
              "\n",
              "  .colab-df-quickchart {\n",
              "    background-color: var(--bg-color);\n",
              "    border: none;\n",
              "    border-radius: 50%;\n",
              "    cursor: pointer;\n",
              "    display: none;\n",
              "    fill: var(--fill-color);\n",
              "    height: 32px;\n",
              "    padding: 0;\n",
              "    width: 32px;\n",
              "  }\n",
              "\n",
              "  .colab-df-quickchart:hover {\n",
              "    background-color: var(--hover-bg-color);\n",
              "    box-shadow: 0 1px 2px rgba(60, 64, 67, 0.3), 0 1px 3px 1px rgba(60, 64, 67, 0.15);\n",
              "    fill: var(--button-hover-fill-color);\n",
              "  }\n",
              "\n",
              "  .colab-df-quickchart-complete:disabled,\n",
              "  .colab-df-quickchart-complete:disabled:hover {\n",
              "    background-color: var(--disabled-bg-color);\n",
              "    fill: var(--disabled-fill-color);\n",
              "    box-shadow: none;\n",
              "  }\n",
              "\n",
              "  .colab-df-spinner {\n",
              "    border: 2px solid var(--fill-color);\n",
              "    border-color: transparent;\n",
              "    border-bottom-color: var(--fill-color);\n",
              "    animation:\n",
              "      spin 1s steps(1) infinite;\n",
              "  }\n",
              "\n",
              "  @keyframes spin {\n",
              "    0% {\n",
              "      border-color: transparent;\n",
              "      border-bottom-color: var(--fill-color);\n",
              "      border-left-color: var(--fill-color);\n",
              "    }\n",
              "    20% {\n",
              "      border-color: transparent;\n",
              "      border-left-color: var(--fill-color);\n",
              "      border-top-color: var(--fill-color);\n",
              "    }\n",
              "    30% {\n",
              "      border-color: transparent;\n",
              "      border-left-color: var(--fill-color);\n",
              "      border-top-color: var(--fill-color);\n",
              "      border-right-color: var(--fill-color);\n",
              "    }\n",
              "    40% {\n",
              "      border-color: transparent;\n",
              "      border-right-color: var(--fill-color);\n",
              "      border-top-color: var(--fill-color);\n",
              "    }\n",
              "    60% {\n",
              "      border-color: transparent;\n",
              "      border-right-color: var(--fill-color);\n",
              "    }\n",
              "    80% {\n",
              "      border-color: transparent;\n",
              "      border-right-color: var(--fill-color);\n",
              "      border-bottom-color: var(--fill-color);\n",
              "    }\n",
              "    90% {\n",
              "      border-color: transparent;\n",
              "      border-bottom-color: var(--fill-color);\n",
              "    }\n",
              "  }\n",
              "</style>\n",
              "\n",
              "  <script>\n",
              "    async function quickchart(key) {\n",
              "      const quickchartButtonEl =\n",
              "        document.querySelector('#' + key + ' button');\n",
              "      quickchartButtonEl.disabled = true;  // To prevent multiple clicks.\n",
              "      quickchartButtonEl.classList.add('colab-df-spinner');\n",
              "      try {\n",
              "        const charts = await google.colab.kernel.invokeFunction(\n",
              "            'suggestCharts', [key], {});\n",
              "      } catch (error) {\n",
              "        console.error('Error during call to suggestCharts:', error);\n",
              "      }\n",
              "      quickchartButtonEl.classList.remove('colab-df-spinner');\n",
              "      quickchartButtonEl.classList.add('colab-df-quickchart-complete');\n",
              "    }\n",
              "    (() => {\n",
              "      let quickchartButtonEl =\n",
              "        document.querySelector('#df-8c919659-3113-490c-9d92-489f0702bc1c button');\n",
              "      quickchartButtonEl.style.display =\n",
              "        google.colab.kernel.accessAllowed ? 'block' : 'none';\n",
              "    })();\n",
              "  </script>\n",
              "</div>\n",
              "    </div>\n",
              "  </div>\n"
            ],
            "application/vnd.google.colaboratory.intrinsic+json": {
              "type": "dataframe",
              "summary": "{\n  \"name\": \"rides\",\n  \"rows\": 2,\n  \"fields\": [\n    {\n      \"column\": \"Member type\",\n      \"properties\": {\n        \"dtype\": \"string\",\n        \"num_unique_values\": 2,\n        \"samples\": [\n          \"Member\",\n          \"Casual\"\n        ],\n        \"semantic_type\": \"\",\n        \"description\": \"\"\n      }\n    },\n    {\n      \"column\": \"Start date\",\n      \"properties\": {\n        \"dtype\": \"date\",\n        \"min\": \"2017-10-01 15:23:25\",\n        \"max\": \"2017-10-01 15:42:57\",\n        \"num_unique_values\": 2,\n        \"samples\": [\n          \"2017-10-01 15:23:25\",\n          \"2017-10-01 15:42:57\"\n        ],\n        \"semantic_type\": \"\",\n        \"description\": \"\"\n      }\n    },\n    {\n      \"column\": \"End date\",\n      \"properties\": {\n        \"dtype\": \"date\",\n        \"min\": \"2017-10-01 15:26:26\",\n        \"max\": \"2017-10-01 17:49:59\",\n        \"num_unique_values\": 2,\n        \"samples\": [\n          \"2017-10-01 15:26:26\",\n          \"2017-10-01 17:49:59\"\n        ],\n        \"semantic_type\": \"\",\n        \"description\": \"\"\n      }\n    },\n    {\n      \"column\": \"Start station number\",\n      \"properties\": {\n        \"dtype\": \"number\",\n        \"std\": 1,\n        \"min\": 31036,\n        \"max\": 31038,\n        \"num_unique_values\": 2,\n        \"samples\": [\n          31038,\n          31036\n        ],\n        \"semantic_type\": \"\",\n        \"description\": \"\"\n      }\n    },\n    {\n      \"column\": \"Start station\",\n      \"properties\": {\n        \"dtype\": \"string\",\n        \"num_unique_values\": 2,\n        \"samples\": [\n          \"Glebe Rd & 11th St N\",\n          \"George Mason Dr & Wilson Blvd\"\n        ],\n        \"semantic_type\": \"\",\n        \"description\": \"\"\n      }\n    },\n    {\n      \"column\": \"End station number\",\n      \"properties\": {\n        \"dtype\": \"number\",\n        \"std\": 0,\n        \"min\": 31036,\n        \"max\": 31036,\n        \"num_unique_values\": 1,\n        \"samples\": [\n          31036\n        ],\n        \"semantic_type\": \"\",\n        \"description\": \"\"\n      }\n    },\n    {\n      \"column\": \"End station\",\n      \"properties\": {\n        \"dtype\": \"string\",\n        \"num_unique_values\": 1,\n        \"samples\": [\n          \"George Mason Dr & Wilson Blvd\"\n        ],\n        \"semantic_type\": \"\",\n        \"description\": \"\"\n      }\n    },\n    {\n      \"column\": \"Bike number\",\n      \"properties\": {\n        \"dtype\": \"string\",\n        \"num_unique_values\": 1,\n        \"samples\": [\n          \"W20529\"\n        ],\n        \"semantic_type\": \"\",\n        \"description\": \"\"\n      }\n    },\n    {\n      \"column\": \"Duration\",\n      \"properties\": {\n        \"dtype\": \"timedelta64[ns]\",\n        \"num_unique_values\": 2,\n        \"samples\": [\n          \"0 days 00:03:01\"\n        ],\n        \"semantic_type\": \"\",\n        \"description\": \"\"\n      }\n    },\n    {\n      \"column\": \"Duration_second\",\n      \"properties\": {\n        \"dtype\": \"number\",\n        \"std\": 5261.5815588091,\n        \"min\": 181.0,\n        \"max\": 7622.0,\n        \"num_unique_values\": 2,\n        \"samples\": [\n          181.0\n        ],\n        \"semantic_type\": \"\",\n        \"description\": \"\"\n      }\n    }\n  ]\n}"
            }
          },
          "metadata": {},
          "execution_count": 15
        }
      ]
    },
    {
      "cell_type": "code",
      "source": [
        "rides['Start date'].head(3).dt.tz_localize('America/New_York')"
      ],
      "metadata": {
        "colab": {
          "base_uri": "https://localhost:8080/"
        },
        "id": "hsa3QjR7wid5",
        "outputId": "b81795ef-d712-4ffc-ba73-d69ca2a45ae5"
      },
      "execution_count": 16,
      "outputs": [
        {
          "output_type": "execute_result",
          "data": {
            "text/plain": [
              "0   2017-10-01 15:23:25-04:00\n",
              "1   2017-10-01 15:42:57-04:00\n",
              "2   2017-10-02 06:37:10-04:00\n",
              "Name: Start date, dtype: datetime64[ns, America/New_York]"
            ]
          },
          "metadata": {},
          "execution_count": 16
        }
      ]
    },
    {
      "cell_type": "code",
      "source": [
        "# however, if we change all the colum with this method we will encounter ambigious time\n",
        "\n",
        "rides['Start date'].dt.tz_localize('America/New_York')"
      ],
      "metadata": {
        "id": "vgJ86MINtfBs",
        "colab": {
          "base_uri": "https://localhost:8080/",
          "height": 246
        },
        "outputId": "cb19cfeb-464f-45f1-8efb-fe3fdfb058e6"
      },
      "execution_count": 13,
      "outputs": [
        {
          "output_type": "error",
          "ename": "AmbiguousTimeError",
          "evalue": "Cannot infer dst time from 2017-11-05 01:56:50, try using the 'ambiguous' argument",
          "traceback": [
            "\u001b[0;31m---------------------------------------------------------------------------\u001b[0m",
            "\u001b[0;31mAmbiguousTimeError\u001b[0m                        Traceback (most recent call last)",
            "\u001b[0;32m<ipython-input-13-01bfa82ca609>\u001b[0m in \u001b[0;36m<cell line: 3>\u001b[0;34m()\u001b[0m\n\u001b[1;32m      1\u001b[0m \u001b[0;31m# however, if we change all the colum with this method we will encounter ambigious time\u001b[0m\u001b[0;34m\u001b[0m\u001b[0;34m\u001b[0m\u001b[0m\n\u001b[1;32m      2\u001b[0m \u001b[0;34m\u001b[0m\u001b[0m\n\u001b[0;32m----> 3\u001b[0;31m \u001b[0mrides\u001b[0m\u001b[0;34m[\u001b[0m\u001b[0;34m'Start date'\u001b[0m\u001b[0;34m]\u001b[0m\u001b[0;34m.\u001b[0m\u001b[0mdt\u001b[0m\u001b[0;34m.\u001b[0m\u001b[0mtz_localize\u001b[0m\u001b[0;34m(\u001b[0m\u001b[0;34m'America/New_York'\u001b[0m\u001b[0;34m)\u001b[0m\u001b[0;34m\u001b[0m\u001b[0;34m\u001b[0m\u001b[0m\n\u001b[0m",
            "\u001b[0;32m/usr/local/lib/python3.10/dist-packages/pandas/core/accessor.py\u001b[0m in \u001b[0;36mf\u001b[0;34m(self, *args, **kwargs)\u001b[0m\n\u001b[1;32m    110\u001b[0m         \u001b[0;32mdef\u001b[0m \u001b[0m_create_delegator_method\u001b[0m\u001b[0;34m(\u001b[0m\u001b[0mname\u001b[0m\u001b[0;34m)\u001b[0m\u001b[0;34m:\u001b[0m\u001b[0;34m\u001b[0m\u001b[0;34m\u001b[0m\u001b[0m\n\u001b[1;32m    111\u001b[0m             \u001b[0;32mdef\u001b[0m \u001b[0mf\u001b[0m\u001b[0;34m(\u001b[0m\u001b[0mself\u001b[0m\u001b[0;34m,\u001b[0m \u001b[0;34m*\u001b[0m\u001b[0margs\u001b[0m\u001b[0;34m,\u001b[0m \u001b[0;34m**\u001b[0m\u001b[0mkwargs\u001b[0m\u001b[0;34m)\u001b[0m\u001b[0;34m:\u001b[0m\u001b[0;34m\u001b[0m\u001b[0;34m\u001b[0m\u001b[0m\n\u001b[0;32m--> 112\u001b[0;31m                 \u001b[0;32mreturn\u001b[0m \u001b[0mself\u001b[0m\u001b[0;34m.\u001b[0m\u001b[0m_delegate_method\u001b[0m\u001b[0;34m(\u001b[0m\u001b[0mname\u001b[0m\u001b[0;34m,\u001b[0m \u001b[0;34m*\u001b[0m\u001b[0margs\u001b[0m\u001b[0;34m,\u001b[0m \u001b[0;34m**\u001b[0m\u001b[0mkwargs\u001b[0m\u001b[0;34m)\u001b[0m\u001b[0;34m\u001b[0m\u001b[0;34m\u001b[0m\u001b[0m\n\u001b[0m\u001b[1;32m    113\u001b[0m \u001b[0;34m\u001b[0m\u001b[0m\n\u001b[1;32m    114\u001b[0m             \u001b[0mf\u001b[0m\u001b[0;34m.\u001b[0m\u001b[0m__name__\u001b[0m \u001b[0;34m=\u001b[0m \u001b[0mname\u001b[0m\u001b[0;34m\u001b[0m\u001b[0;34m\u001b[0m\u001b[0m\n",
            "\u001b[0;32m/usr/local/lib/python3.10/dist-packages/pandas/core/indexes/accessors.py\u001b[0m in \u001b[0;36m_delegate_method\u001b[0;34m(self, name, *args, **kwargs)\u001b[0m\n\u001b[1;32m    126\u001b[0m \u001b[0;34m\u001b[0m\u001b[0m\n\u001b[1;32m    127\u001b[0m         \u001b[0mmethod\u001b[0m \u001b[0;34m=\u001b[0m \u001b[0mgetattr\u001b[0m\u001b[0;34m(\u001b[0m\u001b[0mvalues\u001b[0m\u001b[0;34m,\u001b[0m \u001b[0mname\u001b[0m\u001b[0;34m)\u001b[0m\u001b[0;34m\u001b[0m\u001b[0;34m\u001b[0m\u001b[0m\n\u001b[0;32m--> 128\u001b[0;31m         \u001b[0mresult\u001b[0m \u001b[0;34m=\u001b[0m \u001b[0mmethod\u001b[0m\u001b[0;34m(\u001b[0m\u001b[0;34m*\u001b[0m\u001b[0margs\u001b[0m\u001b[0;34m,\u001b[0m \u001b[0;34m**\u001b[0m\u001b[0mkwargs\u001b[0m\u001b[0;34m)\u001b[0m\u001b[0;34m\u001b[0m\u001b[0;34m\u001b[0m\u001b[0m\n\u001b[0m\u001b[1;32m    129\u001b[0m \u001b[0;34m\u001b[0m\u001b[0m\n\u001b[1;32m    130\u001b[0m         \u001b[0;32mif\u001b[0m \u001b[0;32mnot\u001b[0m \u001b[0mis_list_like\u001b[0m\u001b[0;34m(\u001b[0m\u001b[0mresult\u001b[0m\u001b[0;34m)\u001b[0m\u001b[0;34m:\u001b[0m\u001b[0;34m\u001b[0m\u001b[0;34m\u001b[0m\u001b[0m\n",
            "\u001b[0;32m/usr/local/lib/python3.10/dist-packages/pandas/core/indexes/datetimes.py\u001b[0m in \u001b[0;36mtz_localize\u001b[0;34m(self, tz, ambiguous, nonexistent)\u001b[0m\n\u001b[1;32m    277\u001b[0m         \u001b[0mnonexistent\u001b[0m\u001b[0;34m:\u001b[0m \u001b[0mTimeNonexistent\u001b[0m \u001b[0;34m=\u001b[0m \u001b[0;34m\"raise\"\u001b[0m\u001b[0;34m,\u001b[0m\u001b[0;34m\u001b[0m\u001b[0;34m\u001b[0m\u001b[0m\n\u001b[1;32m    278\u001b[0m     ) -> DatetimeIndex:\n\u001b[0;32m--> 279\u001b[0;31m         \u001b[0marr\u001b[0m \u001b[0;34m=\u001b[0m \u001b[0mself\u001b[0m\u001b[0;34m.\u001b[0m\u001b[0m_data\u001b[0m\u001b[0;34m.\u001b[0m\u001b[0mtz_localize\u001b[0m\u001b[0;34m(\u001b[0m\u001b[0mtz\u001b[0m\u001b[0;34m,\u001b[0m \u001b[0mambiguous\u001b[0m\u001b[0;34m,\u001b[0m \u001b[0mnonexistent\u001b[0m\u001b[0;34m)\u001b[0m\u001b[0;34m\u001b[0m\u001b[0;34m\u001b[0m\u001b[0m\n\u001b[0m\u001b[1;32m    280\u001b[0m         \u001b[0;32mreturn\u001b[0m \u001b[0mtype\u001b[0m\u001b[0;34m(\u001b[0m\u001b[0mself\u001b[0m\u001b[0;34m)\u001b[0m\u001b[0;34m.\u001b[0m\u001b[0m_simple_new\u001b[0m\u001b[0;34m(\u001b[0m\u001b[0marr\u001b[0m\u001b[0;34m,\u001b[0m \u001b[0mname\u001b[0m\u001b[0;34m=\u001b[0m\u001b[0mself\u001b[0m\u001b[0;34m.\u001b[0m\u001b[0mname\u001b[0m\u001b[0;34m)\u001b[0m\u001b[0;34m\u001b[0m\u001b[0;34m\u001b[0m\u001b[0m\n\u001b[1;32m    281\u001b[0m \u001b[0;34m\u001b[0m\u001b[0m\n",
            "\u001b[0;32m/usr/local/lib/python3.10/dist-packages/pandas/core/arrays/_mixins.py\u001b[0m in \u001b[0;36mmethod\u001b[0;34m(self, *args, **kwargs)\u001b[0m\n\u001b[1;32m     84\u001b[0m     \u001b[0;32mdef\u001b[0m \u001b[0mmethod\u001b[0m\u001b[0;34m(\u001b[0m\u001b[0mself\u001b[0m\u001b[0;34m,\u001b[0m \u001b[0;34m*\u001b[0m\u001b[0margs\u001b[0m\u001b[0;34m,\u001b[0m \u001b[0;34m**\u001b[0m\u001b[0mkwargs\u001b[0m\u001b[0;34m)\u001b[0m\u001b[0;34m:\u001b[0m\u001b[0;34m\u001b[0m\u001b[0;34m\u001b[0m\u001b[0m\n\u001b[1;32m     85\u001b[0m         \u001b[0;32mif\u001b[0m \u001b[0mself\u001b[0m\u001b[0;34m.\u001b[0m\u001b[0mndim\u001b[0m \u001b[0;34m==\u001b[0m \u001b[0;36m1\u001b[0m\u001b[0;34m:\u001b[0m\u001b[0;34m\u001b[0m\u001b[0;34m\u001b[0m\u001b[0m\n\u001b[0;32m---> 86\u001b[0;31m             \u001b[0;32mreturn\u001b[0m \u001b[0mmeth\u001b[0m\u001b[0;34m(\u001b[0m\u001b[0mself\u001b[0m\u001b[0;34m,\u001b[0m \u001b[0;34m*\u001b[0m\u001b[0margs\u001b[0m\u001b[0;34m,\u001b[0m \u001b[0;34m**\u001b[0m\u001b[0mkwargs\u001b[0m\u001b[0;34m)\u001b[0m\u001b[0;34m\u001b[0m\u001b[0;34m\u001b[0m\u001b[0m\n\u001b[0m\u001b[1;32m     87\u001b[0m \u001b[0;34m\u001b[0m\u001b[0m\n\u001b[1;32m     88\u001b[0m         \u001b[0mflags\u001b[0m \u001b[0;34m=\u001b[0m \u001b[0mself\u001b[0m\u001b[0;34m.\u001b[0m\u001b[0m_ndarray\u001b[0m\u001b[0;34m.\u001b[0m\u001b[0mflags\u001b[0m\u001b[0;34m\u001b[0m\u001b[0;34m\u001b[0m\u001b[0m\n",
            "\u001b[0;32m/usr/local/lib/python3.10/dist-packages/pandas/core/arrays/datetimes.py\u001b[0m in \u001b[0;36mtz_localize\u001b[0;34m(self, tz, ambiguous, nonexistent)\u001b[0m\n\u001b[1;32m   1038\u001b[0m             \u001b[0;31m# Convert to UTC\u001b[0m\u001b[0;34m\u001b[0m\u001b[0;34m\u001b[0m\u001b[0m\n\u001b[1;32m   1039\u001b[0m \u001b[0;34m\u001b[0m\u001b[0m\n\u001b[0;32m-> 1040\u001b[0;31m             new_dates = tzconversion.tz_localize_to_utc(\n\u001b[0m\u001b[1;32m   1041\u001b[0m                 \u001b[0mself\u001b[0m\u001b[0;34m.\u001b[0m\u001b[0masi8\u001b[0m\u001b[0;34m,\u001b[0m\u001b[0;34m\u001b[0m\u001b[0;34m\u001b[0m\u001b[0m\n\u001b[1;32m   1042\u001b[0m                 \u001b[0mtz\u001b[0m\u001b[0;34m,\u001b[0m\u001b[0;34m\u001b[0m\u001b[0;34m\u001b[0m\u001b[0m\n",
            "\u001b[0;32m/usr/local/lib/python3.10/dist-packages/pandas/_libs/tslibs/tzconversion.pyx\u001b[0m in \u001b[0;36mpandas._libs.tslibs.tzconversion.tz_localize_to_utc\u001b[0;34m()\u001b[0m\n",
            "\u001b[0;31mAmbiguousTimeError\u001b[0m: Cannot infer dst time from 2017-11-05 01:56:50, try using the 'ambiguous' argument"
          ]
        }
      ]
    },
    {
      "cell_type": "code",
      "source": [
        "# to solve this\n",
        "rides['Start date'] = rides['Start date']\\\n",
        ".dt.tz_localize('America/New_York', ambiguous= 'NaT') # meaning thatsays that if the converter gets confused, it should set the bad result as Not a Time\n",
        "\n",
        "rides['End date'] = rides['End date']\\\n",
        ".dt.tz_localize('America/New_York', ambiguous= 'NaT') # meaning thatsays that if the converter gets confused, it should set the bad result as Not a Time"
      ],
      "metadata": {
        "id": "S1-iXCPUtEpI"
      },
      "execution_count": 19,
      "outputs": []
    },
    {
      "cell_type": "code",
      "source": [
        "# recalculate the duration\n",
        "rides['Duration'] = rides['End date'] - rides['Start date']"
      ],
      "metadata": {
        "id": "f3XXXC-ExKNm"
      },
      "execution_count": 20,
      "outputs": []
    },
    {
      "cell_type": "code",
      "source": [
        "rides['Duration'].dt.total_seconds().min()"
      ],
      "metadata": {
        "colab": {
          "base_uri": "https://localhost:8080/"
        },
        "id": "_p9UnlHPxwVg",
        "outputId": "d4de69e4-24d5-4d29-a296-1187688980ce"
      },
      "execution_count": 21,
      "outputs": [
        {
          "output_type": "execute_result",
          "data": {
            "text/plain": [
              "116.0"
            ]
          },
          "metadata": {},
          "execution_count": 21
        }
      ]
    },
    {
      "cell_type": "code",
      "source": [
        "# Convert the Start date column to Europe/London\n",
        "rides['Start date'] = rides['Start date'].dt.tz_convert('Europe/London')\n",
        "\n",
        "# Print the new value\n",
        "print(rides['Start date'].iloc[0])"
      ],
      "metadata": {
        "colab": {
          "base_uri": "https://localhost:8080/"
        },
        "id": "6oSNmgCay7gJ",
        "outputId": "d0892f1e-ac2f-4588-b7ca-88f12cc5b486"
      },
      "execution_count": 22,
      "outputs": [
        {
          "output_type": "stream",
          "name": "stdout",
          "text": [
            "2017-10-01 20:23:25+01:00\n"
          ]
        }
      ]
    },
    {
      "cell_type": "markdown",
      "source": [
        "**Pandas also lets you shift rows up or down with the .shift()**:  \n",
        "This is useful if you want to, for example, line up the end times of each row with the start time of the next one."
      ],
      "metadata": {
        "id": "frE8BmOHya3l"
      }
    },
    {
      "cell_type": "code",
      "source": [
        "# Add a column for the weekday of the start of the ride\n",
        "rides['Ride start weekday'] = rides['Start date'].dt.day_name()\n",
        "\n",
        "# Print the median trip time per weekday\n",
        "print(rides.groupby('Ride start weekday')['Duration'].median())"
      ],
      "metadata": {
        "colab": {
          "base_uri": "https://localhost:8080/"
        },
        "id": "s9A6ntvKx6pg",
        "outputId": "4f5e42f1-8ff5-4be6-cff6-64b2654d6334"
      },
      "execution_count": 23,
      "outputs": [
        {
          "output_type": "stream",
          "name": "stdout",
          "text": [
            "Ride start weekday\n",
            "Friday             0 days 00:11:24\n",
            "Monday      0 days 00:15:22.500000\n",
            "Saturday           0 days 00:10:10\n",
            "Sunday             0 days 00:10:25\n",
            "Thursday           0 days 00:10:59\n",
            "Tuesday            0 days 00:10:44\n",
            "Wednesday          0 days 00:10:29\n",
            "Name: Duration, dtype: timedelta64[ns]\n"
          ]
        }
      ]
    },
    {
      "cell_type": "code",
      "source": [
        "#  How much time elapsed between rides?\n",
        "# Shift the index of the end date up one; now subract it from the start date\n",
        "rides['Time since'] = rides['Start date'] - (rides['End date'].shift(1))\n",
        "\n",
        "# Move from a timedelta to a number of seconds, which is easier to work with\n",
        "rides['Time since'] = rides['Time since'].dt.total_seconds()\n",
        "\n",
        "# Resample to the month\n",
        "monthly = rides.resample('M', on = 'Start date')\n",
        "\n",
        "# Print the average hours between rides each month\n",
        "print(monthly['Time since'].mean()/(60*60))"
      ],
      "metadata": {
        "colab": {
          "base_uri": "https://localhost:8080/"
        },
        "id": "9Wzjk6nLzA7I",
        "outputId": "afb7605c-d557-4097-cec2-3201314a1480"
      },
      "execution_count": 24,
      "outputs": [
        {
          "output_type": "stream",
          "name": "stdout",
          "text": [
            "Start date\n",
            "2017-10-31 00:00:00+00:00    5.519242\n",
            "2017-11-30 00:00:00+00:00    7.256474\n",
            "2017-12-31 00:00:00+00:00    9.202380\n",
            "Name: Time since, dtype: float64\n"
          ]
        }
      ]
    },
    {
      "cell_type": "code",
      "source": [],
      "metadata": {
        "id": "miGgdq0ZzNjw"
      },
      "execution_count": null,
      "outputs": []
    }
  ]
}