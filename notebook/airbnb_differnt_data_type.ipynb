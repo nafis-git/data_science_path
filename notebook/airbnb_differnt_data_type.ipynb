{
 "cells": [
  {
   "cell_type": "markdown",
   "id": "c747d469-ee97-4b95-880f-feefd5456042",
   "metadata": {
    "id": "bA5ajAmk7XH6"
   },
   "source": [
    "![NYC Skyline](nyc.jpg)\n",
    "\n",
    "Welcome to New York City, one of the most-visited cities in the world. There are many Airbnb listings in New York City to meet the high demand for temporary lodging for travelers, which can be anywhere between a few nights to many months. In this project, we will take a closer look at the New York Airbnb market by combining data from multiple file types like `.csv`, `.tsv`, and `.xlsx`.\n",
    "\n",
    "Recall that **CSV**, **TSV**, and **Excel** files are three common formats for storing data. \n",
    "Three files containing data on 2019 Airbnb listings are available to you:\n",
    "\n",
    "**data/airbnb_price.csv**\n",
    "This is a CSV file containing data on Airbnb listing prices and locations.\n",
    "- **`listing_id`**: unique identifier of listing\n",
    "- **`price`**: nightly listing price in USD\n",
    "- **`nbhood_full`**: name of borough and neighborhood where listing is located\n",
    "\n",
    "**data/airbnb_room_type.xlsx**\n",
    "This is an Excel file containing data on Airbnb listing descriptions and room types.\n",
    "- **`listing_id`**: unique identifier of listing\n",
    "- **`description`**: listing description\n",
    "- **`room_type`**: Airbnb has three types of rooms: shared rooms, private rooms, and entire homes/apartments\n",
    "\n",
    "**data/airbnb_last_review.tsv**\n",
    "This is a TSV file containing data on Airbnb host names and review dates.\n",
    "- **`listing_id`**: unique identifier of listing\n",
    "- **`host_name`**: name of listing host\n",
    "- **`last_review`**: date when the listing was last reviewed"
   ]
  },
  {
   "cell_type": "markdown",
   "id": "67911fbb-e868-4e44-9469-044f59a83dc5",
   "metadata": {},
   "source": [
    "As a consultant working for a real estate start-up, you have collected Airbnb listing data from various sources to investigate the short-term rental market in New York. You'll analyze this data to provide insights on private rooms to the real estate company.\n",
    "\n",
    "There are three files in the data folder: airbnb_price.csv, airbnb_room_type.xlsx, airbnb_last_review.tsv.\n",
    "\n",
    "## section I \n",
    "What are the dates of the earliest and most recent reviews? Store these values as two separate variables with your preferred names.\n",
    "## section II\n",
    "How many of the listings are private rooms? Save this into any variable.\n",
    "## section III\n",
    "What is the average listing price? Round to the nearest penny and save into a variable.\n",
    "## section IV\n",
    "Combine the new variables into one DataFrame called review_dates with four columns in the following order: first_reviewed, \n",
    "## section V\n",
    "last_reviewed, nb_private_rooms, and avg_price. The DataFrame should only contain one row of values."
   ]
  },
  {
   "cell_type": "code",
   "execution_count": 3,
   "id": "1fdc5784-479e-46cb-b05b-68439dcc94a7",
   "metadata": {
    "executionCancelledAt": null,
    "executionTime": 9,
    "lastExecutedAt": 1706801198169,
    "lastScheduledRunId": null,
    "lastSuccessfullyExecutedCode": "# We've loaded your first package for you! You can add as many cells as you need.\nimport numpy as np\nimport pandas as pd\n# Begin coding here ..."
   },
   "outputs": [],
   "source": [
    "# We've loaded your first package for you! You can add as many cells as you need.\n",
    "import numpy as np\n",
    "import pandas as pd\n",
    "# Begin coding here ..."
   ]
  },
  {
   "cell_type": "code",
   "execution_count": 4,
   "id": "9904dbb7",
   "metadata": {},
   "outputs": [],
   "source": [
    "path = \"https://raw.githubusercontent.com/nafis-git/data_science_path/main/data/data_airbnb\""
   ]
  },
  {
   "cell_type": "code",
   "execution_count": 6,
   "id": "0b07b315-9fb4-4591-b0aa-b740a7821c88",
   "metadata": {
    "executionCancelledAt": null,
    "executionTime": 47,
    "lastExecutedAt": 1706801198216,
    "lastScheduledRunId": null,
    "lastSuccessfullyExecutedCode": "# look at the price dataframe\nprices = pd.read_csv('data/airbnb_price.csv', index_col = 'listing_id' )\nprices.head()",
    "outputsMetadata": {
     "0": {
      "height": 199,
      "type": "dataFrame"
     }
    }
   },
   "outputs": [
    {
     "data": {
      "text/html": [
       "<div>\n",
       "<style scoped>\n",
       "    .dataframe tbody tr th:only-of-type {\n",
       "        vertical-align: middle;\n",
       "    }\n",
       "\n",
       "    .dataframe tbody tr th {\n",
       "        vertical-align: top;\n",
       "    }\n",
       "\n",
       "    .dataframe thead th {\n",
       "        text-align: right;\n",
       "    }\n",
       "</style>\n",
       "<table border=\"1\" class=\"dataframe\">\n",
       "  <thead>\n",
       "    <tr style=\"text-align: right;\">\n",
       "      <th></th>\n",
       "      <th>price</th>\n",
       "      <th>nbhood_full</th>\n",
       "    </tr>\n",
       "    <tr>\n",
       "      <th>listing_id</th>\n",
       "      <th></th>\n",
       "      <th></th>\n",
       "    </tr>\n",
       "  </thead>\n",
       "  <tbody>\n",
       "    <tr>\n",
       "      <th>2595</th>\n",
       "      <td>225 dollars</td>\n",
       "      <td>Manhattan, Midtown</td>\n",
       "    </tr>\n",
       "    <tr>\n",
       "      <th>3831</th>\n",
       "      <td>89 dollars</td>\n",
       "      <td>Brooklyn, Clinton Hill</td>\n",
       "    </tr>\n",
       "    <tr>\n",
       "      <th>5099</th>\n",
       "      <td>200 dollars</td>\n",
       "      <td>Manhattan, Murray Hill</td>\n",
       "    </tr>\n",
       "    <tr>\n",
       "      <th>5178</th>\n",
       "      <td>79 dollars</td>\n",
       "      <td>Manhattan, Hell's Kitchen</td>\n",
       "    </tr>\n",
       "    <tr>\n",
       "      <th>5238</th>\n",
       "      <td>150 dollars</td>\n",
       "      <td>Manhattan, Chinatown</td>\n",
       "    </tr>\n",
       "  </tbody>\n",
       "</table>\n",
       "</div>"
      ],
      "text/plain": [
       "                  price                nbhood_full\n",
       "listing_id                                        \n",
       "2595        225 dollars         Manhattan, Midtown\n",
       "3831         89 dollars     Brooklyn, Clinton Hill\n",
       "5099        200 dollars     Manhattan, Murray Hill\n",
       "5178         79 dollars  Manhattan, Hell's Kitchen\n",
       "5238        150 dollars       Manhattan, Chinatown"
      ]
     },
     "execution_count": 6,
     "metadata": {},
     "output_type": "execute_result"
    }
   ],
   "source": [
    "# look at the price dataframe\n",
    "prices = pd.read_csv(path +'/airbnb_price.csv', index_col = 'listing_id' )\n",
    "prices.head()"
   ]
  },
  {
   "cell_type": "code",
   "execution_count": 10,
   "id": "a24e1c1e-297f-44ad-9066-364312b42218",
   "metadata": {
    "executionCancelledAt": null,
    "executionTime": 1714,
    "lastExecutedAt": 1706801199930,
    "lastScheduledRunId": null,
    "lastSuccessfullyExecutedCode": "# look at the room_type dataframe\nroom_types = pd.read_excel('data/airbnb_room_type.xlsx', index_col = 'listing_id')\nroom_types.head()",
    "outputsMetadata": {
     "0": {
      "height": 199,
      "type": "dataFrame"
     }
    }
   },
   "outputs": [
    {
     "data": {
      "text/html": [
       "<div>\n",
       "<style scoped>\n",
       "    .dataframe tbody tr th:only-of-type {\n",
       "        vertical-align: middle;\n",
       "    }\n",
       "\n",
       "    .dataframe tbody tr th {\n",
       "        vertical-align: top;\n",
       "    }\n",
       "\n",
       "    .dataframe thead th {\n",
       "        text-align: right;\n",
       "    }\n",
       "</style>\n",
       "<table border=\"1\" class=\"dataframe\">\n",
       "  <thead>\n",
       "    <tr style=\"text-align: right;\">\n",
       "      <th></th>\n",
       "      <th>description</th>\n",
       "      <th>room_type</th>\n",
       "    </tr>\n",
       "    <tr>\n",
       "      <th>listing_id</th>\n",
       "      <th></th>\n",
       "      <th></th>\n",
       "    </tr>\n",
       "  </thead>\n",
       "  <tbody>\n",
       "    <tr>\n",
       "      <th>2595</th>\n",
       "      <td>Skylit Midtown Castle</td>\n",
       "      <td>Entire home/apt</td>\n",
       "    </tr>\n",
       "    <tr>\n",
       "      <th>3831</th>\n",
       "      <td>Cozy Entire Floor of Brownstone</td>\n",
       "      <td>Entire home/apt</td>\n",
       "    </tr>\n",
       "    <tr>\n",
       "      <th>5099</th>\n",
       "      <td>Large Cozy 1 BR Apartment In Midtown East</td>\n",
       "      <td>Entire home/apt</td>\n",
       "    </tr>\n",
       "    <tr>\n",
       "      <th>5178</th>\n",
       "      <td>Large Furnished Room Near B'way</td>\n",
       "      <td>private room</td>\n",
       "    </tr>\n",
       "    <tr>\n",
       "      <th>5238</th>\n",
       "      <td>Cute &amp; Cozy Lower East Side 1 bdrm</td>\n",
       "      <td>Entire home/apt</td>\n",
       "    </tr>\n",
       "  </tbody>\n",
       "</table>\n",
       "</div>"
      ],
      "text/plain": [
       "                                          description        room_type\n",
       "listing_id                                                            \n",
       "2595                            Skylit Midtown Castle  Entire home/apt\n",
       "3831                  Cozy Entire Floor of Brownstone  Entire home/apt\n",
       "5099        Large Cozy 1 BR Apartment In Midtown East  Entire home/apt\n",
       "5178                  Large Furnished Room Near B'way     private room\n",
       "5238               Cute & Cozy Lower East Side 1 bdrm  Entire home/apt"
      ]
     },
     "execution_count": 10,
     "metadata": {},
     "output_type": "execute_result"
    }
   ],
   "source": [
    "# look at the room_type dataframe\n",
    "room_types = pd.read_excel(path+'/airbnb_room_type.xlsx', index_col = 'listing_id')\n",
    "room_types.head()"
   ]
  },
  {
   "cell_type": "code",
   "execution_count": 8,
   "id": "0ae60016-13a0-4dd9-82d6-8e06674278f4",
   "metadata": {
    "executionCancelledAt": null,
    "executionTime": 49,
    "lastExecutedAt": 1706801199979,
    "lastScheduledRunId": null,
    "lastSuccessfullyExecutedCode": "# look at the reviews dataframe\nreview = pd.read_csv('data/airbnb_last_review.tsv', sep = '\\t', index_col = 'listing_id')\nreview.head()  ",
    "outputsMetadata": {
     "0": {
      "height": 199,
      "type": "dataFrame"
     }
    }
   },
   "outputs": [
    {
     "data": {
      "text/html": [
       "<div>\n",
       "<style scoped>\n",
       "    .dataframe tbody tr th:only-of-type {\n",
       "        vertical-align: middle;\n",
       "    }\n",
       "\n",
       "    .dataframe tbody tr th {\n",
       "        vertical-align: top;\n",
       "    }\n",
       "\n",
       "    .dataframe thead th {\n",
       "        text-align: right;\n",
       "    }\n",
       "</style>\n",
       "<table border=\"1\" class=\"dataframe\">\n",
       "  <thead>\n",
       "    <tr style=\"text-align: right;\">\n",
       "      <th></th>\n",
       "      <th>host_name</th>\n",
       "      <th>last_review</th>\n",
       "    </tr>\n",
       "    <tr>\n",
       "      <th>listing_id</th>\n",
       "      <th></th>\n",
       "      <th></th>\n",
       "    </tr>\n",
       "  </thead>\n",
       "  <tbody>\n",
       "    <tr>\n",
       "      <th>2595</th>\n",
       "      <td>Jennifer</td>\n",
       "      <td>May 21 2019</td>\n",
       "    </tr>\n",
       "    <tr>\n",
       "      <th>3831</th>\n",
       "      <td>LisaRoxanne</td>\n",
       "      <td>July 05 2019</td>\n",
       "    </tr>\n",
       "    <tr>\n",
       "      <th>5099</th>\n",
       "      <td>Chris</td>\n",
       "      <td>June 22 2019</td>\n",
       "    </tr>\n",
       "    <tr>\n",
       "      <th>5178</th>\n",
       "      <td>Shunichi</td>\n",
       "      <td>June 24 2019</td>\n",
       "    </tr>\n",
       "    <tr>\n",
       "      <th>5238</th>\n",
       "      <td>Ben</td>\n",
       "      <td>June 09 2019</td>\n",
       "    </tr>\n",
       "  </tbody>\n",
       "</table>\n",
       "</div>"
      ],
      "text/plain": [
       "              host_name   last_review\n",
       "listing_id                           \n",
       "2595           Jennifer   May 21 2019\n",
       "3831        LisaRoxanne  July 05 2019\n",
       "5099              Chris  June 22 2019\n",
       "5178           Shunichi  June 24 2019\n",
       "5238                Ben  June 09 2019"
      ]
     },
     "execution_count": 8,
     "metadata": {},
     "output_type": "execute_result"
    }
   ],
   "source": [
    "# look at the reviews dataframe\n",
    "review = pd.read_csv(path+'/airbnb_last_review.tsv', sep = '\\t', index_col = 'listing_id')\n",
    "review.head()  "
   ]
  },
  {
   "cell_type": "markdown",
   "id": "9b920f50-14f4-405b-8195-2403f7a083de",
   "metadata": {},
   "source": [
    "# section I\n",
    "What are the dates of the earliest and most recent reviews? Store these values as two separate variables with your preferred names.\n"
   ]
  },
  {
   "cell_type": "code",
   "execution_count": 87,
   "id": "5a91d5aa-2f5e-4fe6-a4d5-a7978efc5daf",
   "metadata": {
    "executionCancelledAt": null,
    "executionTime": 52,
    "lastExecutedAt": 1706801200031,
    "lastScheduledRunId": null,
    "lastSuccessfullyExecutedCode": "review.info()",
    "outputsMetadata": {
     "0": {
      "height": 197,
      "type": "stream"
     }
    }
   },
   "outputs": [
    {
     "name": "stdout",
     "output_type": "stream",
     "text": [
      "<class 'pandas.core.frame.DataFrame'>\n",
      "Int64Index: 25209 entries, 2595 to 36455809\n",
      "Data columns (total 2 columns):\n",
      " #   Column       Non-Null Count  Dtype \n",
      "---  ------       --------------  ----- \n",
      " 0   host_name    25201 non-null  object\n",
      " 1   last_review  25209 non-null  object\n",
      "dtypes: object(2)\n",
      "memory usage: 590.8+ KB\n"
     ]
    }
   ],
   "source": [
    "review.info()"
   ]
  },
  {
   "cell_type": "code",
   "execution_count": 88,
   "id": "e9a06a38-a2b7-4c79-b52c-d19b101ab1af",
   "metadata": {
    "executionCancelledAt": null,
    "executionTime": 53,
    "lastExecutedAt": 1706801200084,
    "lastScheduledRunId": null,
    "lastSuccessfullyExecutedCode": "# What are the dates of the earliest and most recent reviews? Store these values as two separate variables with your preferred names.\n# or instead of parsing dates while reading we can use beelow line of code\nreview['last_review'] = pd.to_datetime(review['last_review'], format='%B %d %Y')\nearliest_review = review['last_review'].min()\nrecent_review = review['last_review'].max()\nprint(f'earliest_review is {earliest_review} and the most recent review is at {recent_review}')",
    "outputsMetadata": {
     "0": {
      "height": 37,
      "type": "stream"
     }
    }
   },
   "outputs": [
    {
     "name": "stdout",
     "output_type": "stream",
     "text": [
      "earliest_review is 2019-01-01 00:00:00 and the most recent review is at 2019-07-09 00:00:00\n"
     ]
    }
   ],
   "source": [
    "# What are the dates of the earliest and most recent reviews? Store these values as two separate variables with your preferred names.\n",
    "# or instead of parsing dates while reading we can use beelow line of code\n",
    "review['last_review'] = pd.to_datetime(review['last_review'], format='%B %d %Y')\n",
    "earliest_review = review['last_review'].min()\n",
    "recent_review = review['last_review'].max()\n",
    "print(f'earliest_review is {earliest_review} and the most recent review is at {recent_review}')"
   ]
  },
  {
   "cell_type": "markdown",
   "id": "b38f3dab-ae4e-4a87-9c2d-a3f6e0280b5b",
   "metadata": {},
   "source": [
    "# Section II\n",
    "How many of the listings are private rooms? Save this into any variable."
   ]
  },
  {
   "cell_type": "code",
   "execution_count": 89,
   "id": "5dceda59-37bf-4fb5-b453-a9df75d76490",
   "metadata": {
    "executionCancelledAt": null,
    "executionTime": 51,
    "lastExecutedAt": 1706801200135,
    "lastScheduledRunId": null,
    "lastSuccessfullyExecutedCode": "#How many of the listings are private rooms? Save this into any variable.\n"
   },
   "outputs": [],
   "source": [
    "#How many of the listings are private rooms? Save this into any variable.\n"
   ]
  },
  {
   "cell_type": "code",
   "execution_count": 90,
   "id": "c99cf56f-fbea-4757-b922-421adfbccb7f",
   "metadata": {
    "executionCancelledAt": null,
    "executionTime": 51,
    "lastExecutedAt": 1706801200187,
    "lastScheduledRunId": null,
    "lastSuccessfullyExecutedCode": "room_types['room_type'].unique()"
   },
   "outputs": [
    {
     "data": {
      "text/plain": [
       "array(['Entire home/apt', 'private room', 'Private room',\n",
       "       'entire home/apt', 'PRIVATE ROOM', 'shared room',\n",
       "       'ENTIRE HOME/APT', 'Shared room', 'SHARED ROOM'], dtype=object)"
      ]
     },
     "execution_count": 90,
     "metadata": {},
     "output_type": "execute_result"
    }
   ],
   "source": [
    "room_types['room_type'].unique()"
   ]
  },
  {
   "cell_type": "code",
   "execution_count": 91,
   "id": "b9ac69c8-ba35-4f7f-949a-c1b7473f7265",
   "metadata": {
    "executionCancelledAt": null,
    "executionTime": 55,
    "lastExecutedAt": 1706801200242,
    "lastScheduledRunId": null,
    "lastSuccessfullyExecutedCode": "room_types['room_type'] = room_types['room_type'].str.lower()"
   },
   "outputs": [],
   "source": [
    "room_types['room_type'] = room_types['room_type'].str.lower()"
   ]
  },
  {
   "cell_type": "code",
   "execution_count": 92,
   "id": "0df20a40-80f1-4bd6-ac51-312a436af8d5",
   "metadata": {
    "executionCancelledAt": null,
    "executionTime": 50,
    "lastExecutedAt": 1706801200294,
    "lastScheduledRunId": null,
    "lastSuccessfullyExecutedCode": "\nnum_private = len(room_types[room_types['room_type'] == 'private room'])\nnum_private"
   },
   "outputs": [
    {
     "data": {
      "text/plain": [
       "11356"
      ]
     },
     "execution_count": 92,
     "metadata": {},
     "output_type": "execute_result"
    }
   ],
   "source": [
    "\n",
    "num_private = len(room_types[room_types['room_type'] == 'private room'])\n",
    "num_private"
   ]
  },
  {
   "cell_type": "markdown",
   "id": "2f611206-8a0e-4752-98af-b1f216e64a16",
   "metadata": {},
   "source": [
    "# section III\n",
    "What is the average listing price? Round to the nearest penny and save into a variable."
   ]
  },
  {
   "cell_type": "code",
   "execution_count": 93,
   "id": "eb89d1e1-e338-424f-ac57-8ce997a36aec",
   "metadata": {
    "executionCancelledAt": null,
    "executionTime": 76,
    "lastExecutedAt": 1706801200370,
    "lastScheduledRunId": null,
    "lastSuccessfullyExecutedCode": "prices[['price', 'currancy']] = prices['price'].str.split(' ', n = 1, expand =  True)",
    "outputsMetadata": {
     "0": {
      "height": 325,
      "type": "dataFrame"
     }
    }
   },
   "outputs": [],
   "source": [
    "prices[['price', 'currancy']] = prices['price'].str.split(' ', n = 1, expand =  True)"
   ]
  },
  {
   "cell_type": "code",
   "execution_count": 94,
   "id": "c5c0e219-b074-4a88-9e9a-4c4b530478e2",
   "metadata": {
    "executionCancelledAt": null,
    "executionTime": 49,
    "lastExecutedAt": 1706801200419,
    "lastScheduledRunId": null,
    "lastSuccessfullyExecutedCode": "prices.head()",
    "outputsMetadata": {
     "0": {
      "height": 199,
      "type": "dataFrame"
     }
    }
   },
   "outputs": [
    {
     "data": {
      "application/com.datacamp.data-table.v2+json": {
       "table": {
        "data": {
         "currancy": [
          "dollars",
          "dollars",
          "dollars",
          "dollars",
          "dollars"
         ],
         "listing_id": [
          2595,
          3831,
          5099,
          5178,
          5238
         ],
         "nbhood_full": [
          "Manhattan, Midtown",
          "Brooklyn, Clinton Hill",
          "Manhattan, Murray Hill",
          "Manhattan, Hell's Kitchen",
          "Manhattan, Chinatown"
         ],
         "price": [
          "225",
          "89",
          "200",
          "79",
          "150"
         ]
        },
        "schema": {
         "fields": [
          {
           "name": "listing_id",
           "type": "integer"
          },
          {
           "name": "price",
           "type": "string"
          },
          {
           "name": "nbhood_full",
           "type": "string"
          },
          {
           "name": "currancy",
           "type": "string"
          }
         ],
         "pandas_version": "1.4.0",
         "primaryKey": [
          "listing_id"
         ]
        }
       },
       "total_rows": 5,
       "truncation_type": null
      },
      "text/html": [
       "<div>\n",
       "<style scoped>\n",
       "    .dataframe tbody tr th:only-of-type {\n",
       "        vertical-align: middle;\n",
       "    }\n",
       "\n",
       "    .dataframe tbody tr th {\n",
       "        vertical-align: top;\n",
       "    }\n",
       "\n",
       "    .dataframe thead th {\n",
       "        text-align: right;\n",
       "    }\n",
       "</style>\n",
       "<table border=\"1\" class=\"dataframe\">\n",
       "  <thead>\n",
       "    <tr style=\"text-align: right;\">\n",
       "      <th></th>\n",
       "      <th>price</th>\n",
       "      <th>nbhood_full</th>\n",
       "      <th>currancy</th>\n",
       "    </tr>\n",
       "    <tr>\n",
       "      <th>listing_id</th>\n",
       "      <th></th>\n",
       "      <th></th>\n",
       "      <th></th>\n",
       "    </tr>\n",
       "  </thead>\n",
       "  <tbody>\n",
       "    <tr>\n",
       "      <th>2595</th>\n",
       "      <td>225</td>\n",
       "      <td>Manhattan, Midtown</td>\n",
       "      <td>dollars</td>\n",
       "    </tr>\n",
       "    <tr>\n",
       "      <th>3831</th>\n",
       "      <td>89</td>\n",
       "      <td>Brooklyn, Clinton Hill</td>\n",
       "      <td>dollars</td>\n",
       "    </tr>\n",
       "    <tr>\n",
       "      <th>5099</th>\n",
       "      <td>200</td>\n",
       "      <td>Manhattan, Murray Hill</td>\n",
       "      <td>dollars</td>\n",
       "    </tr>\n",
       "    <tr>\n",
       "      <th>5178</th>\n",
       "      <td>79</td>\n",
       "      <td>Manhattan, Hell's Kitchen</td>\n",
       "      <td>dollars</td>\n",
       "    </tr>\n",
       "    <tr>\n",
       "      <th>5238</th>\n",
       "      <td>150</td>\n",
       "      <td>Manhattan, Chinatown</td>\n",
       "      <td>dollars</td>\n",
       "    </tr>\n",
       "  </tbody>\n",
       "</table>\n",
       "</div>"
      ],
      "text/plain": [
       "           price                nbhood_full currancy\n",
       "listing_id                                          \n",
       "2595         225         Manhattan, Midtown  dollars\n",
       "3831          89     Brooklyn, Clinton Hill  dollars\n",
       "5099         200     Manhattan, Murray Hill  dollars\n",
       "5178          79  Manhattan, Hell's Kitchen  dollars\n",
       "5238         150       Manhattan, Chinatown  dollars"
      ]
     },
     "execution_count": 94,
     "metadata": {},
     "output_type": "execute_result"
    }
   ],
   "source": [
    "prices.head()"
   ]
  },
  {
   "cell_type": "code",
   "execution_count": 95,
   "id": "bfb3859a-cfa3-4b1e-bd21-b1291f31e3c9",
   "metadata": {
    "executionCancelledAt": null,
    "executionTime": 56,
    "lastExecutedAt": 1706801200475,
    "lastScheduledRunId": null,
    "lastSuccessfullyExecutedCode": "#What is the average listing price? Round to the nearest penny and save into a variable.\nprices['price'] = prices['price'].astype('float')\navg_price =prices['price'].mean().round(2)\nprint(f' average price is {avg_price}')",
    "outputsMetadata": {
     "0": {
      "height": 37,
      "type": "stream"
     }
    }
   },
   "outputs": [
    {
     "name": "stdout",
     "output_type": "stream",
     "text": [
      " average price is 141.78\n"
     ]
    }
   ],
   "source": [
    "#What is the average listing price? Round to the nearest penny and save into a variable.\n",
    "prices['price'] = prices['price'].astype('float')\n",
    "avg_price =prices['price'].mean().round(2)\n",
    "print(f' average price is {avg_price}')"
   ]
  },
  {
   "cell_type": "markdown",
   "id": "9258b498-7817-409e-9f43-c65528a7a486",
   "metadata": {},
   "source": [
    "# section IV\n",
    "Combine the new variables into one DataFrame called review_dates with four columns in the following order: first_reviewed, last_reviewed, nb_private_rooms, and avg_price. The DataFrame should only contain one row of values."
   ]
  },
  {
   "cell_type": "code",
   "execution_count": 96,
   "id": "0cc1a8d6-8c3f-4609-8679-8d5ed0a56cea",
   "metadata": {
    "executionCancelledAt": null,
    "executionTime": 46,
    "lastExecutedAt": 1706801200522,
    "lastScheduledRunId": null,
    "lastSuccessfullyExecutedCode": "review_dates = pd.DataFrame({'first_reviewed': [earliest_review], 'last_reviewed':recent_review,\n                             'nb_private_rooms': num_private,  'avg_price': avg_price}, index = [0])"
   },
   "outputs": [],
   "source": [
    "review_dates = pd.DataFrame({'first_reviewed': [earliest_review], 'last_reviewed':recent_review,\n",
    "                             'nb_private_rooms': num_private,  'avg_price': avg_price}, index = [0])"
   ]
  },
  {
   "cell_type": "code",
   "execution_count": 97,
   "id": "82d08cbc-f2cf-4f31-bcd5-44af8bea412b",
   "metadata": {
    "executionCancelledAt": null,
    "executionTime": 48,
    "lastExecutedAt": 1706801200571,
    "lastScheduledRunId": null,
    "lastSuccessfullyExecutedCode": "review_dates",
    "outputsMetadata": {
     "0": {
      "height": 99,
      "type": "dataFrame"
     }
    }
   },
   "outputs": [
    {
     "data": {
      "application/com.datacamp.data-table.v2+json": {
       "table": {
        "data": {
         "avg_price": [
          141.78
         ],
         "first_reviewed": [
          "2019-01-01T00:00:00.000"
         ],
         "index": [
          0
         ],
         "last_reviewed": [
          "2019-07-09T00:00:00.000"
         ],
         "nb_private_rooms": [
          11356
         ]
        },
        "schema": {
         "fields": [
          {
           "name": "index",
           "type": "integer"
          },
          {
           "name": "first_reviewed",
           "type": "datetime"
          },
          {
           "name": "last_reviewed",
           "type": "datetime"
          },
          {
           "name": "nb_private_rooms",
           "type": "integer"
          },
          {
           "name": "avg_price",
           "type": "number"
          }
         ],
         "pandas_version": "1.4.0",
         "primaryKey": [
          "index"
         ]
        }
       },
       "total_rows": 1,
       "truncation_type": null
      },
      "text/html": [
       "<div>\n",
       "<style scoped>\n",
       "    .dataframe tbody tr th:only-of-type {\n",
       "        vertical-align: middle;\n",
       "    }\n",
       "\n",
       "    .dataframe tbody tr th {\n",
       "        vertical-align: top;\n",
       "    }\n",
       "\n",
       "    .dataframe thead th {\n",
       "        text-align: right;\n",
       "    }\n",
       "</style>\n",
       "<table border=\"1\" class=\"dataframe\">\n",
       "  <thead>\n",
       "    <tr style=\"text-align: right;\">\n",
       "      <th></th>\n",
       "      <th>first_reviewed</th>\n",
       "      <th>last_reviewed</th>\n",
       "      <th>nb_private_rooms</th>\n",
       "      <th>avg_price</th>\n",
       "    </tr>\n",
       "  </thead>\n",
       "  <tbody>\n",
       "    <tr>\n",
       "      <th>0</th>\n",
       "      <td>2019-01-01</td>\n",
       "      <td>2019-07-09</td>\n",
       "      <td>11356</td>\n",
       "      <td>141.78</td>\n",
       "    </tr>\n",
       "  </tbody>\n",
       "</table>\n",
       "</div>"
      ],
      "text/plain": [
       "  first_reviewed last_reviewed  nb_private_rooms  avg_price\n",
       "0     2019-01-01    2019-07-09             11356     141.78"
      ]
     },
     "execution_count": 97,
     "metadata": {},
     "output_type": "execute_result"
    }
   ],
   "source": [
    "review_dates"
   ]
  },
  {
   "cell_type": "code",
   "execution_count": 98,
   "id": "aaad6974-b633-4d58-8559-45bfd93f2380",
   "metadata": {
    "executionCancelledAt": null,
    "executionTime": 46,
    "lastExecutedAt": 1706801200618,
    "lastScheduledRunId": null,
    "lastSuccessfullyExecutedCode": "# # Import necessary packages\n# import pandas as pd\n# import numpy as np\n\n# # Import CSV for prices\n# airbnb_price = pd.read_csv('data/airbnb_price.csv')\n\n# # Import Excel file for room types\n# airbnb_room_type = pd.read_excel('data/airbnb_room_type.xlsx')\n\n# # Import TSV for review dates\n# airbnb_last_review = pd.read_csv('data/airbnb_last_review.tsv', sep='\\t')\n\n# # Join the three data frames together into one\n# listings = pd.merge(airbnb_price, airbnb_room_type, on='listing_id')\n# listings = pd.merge(listings, airbnb_last_review, on='listing_id')\n\n# # What are the dates of the earliest and most recent reviews?\n# # To use a function like max()/min() on last_review date column, it needs to be converted to datetime type\n# listings['last_review_date'] = pd.to_datetime(listings['last_review'], format='%B %d %Y')\n# first_reviewed = listings['last_review_date'].min()\n# last_reviewed = listings['last_review_date'].max()\n\n# # How many of the listings are private rooms?\n# # Since there are differences in capitalization, make capitalization consistent\n# listings['room_type'] = listings['room_type'].str.lower()\n# private_room_count = listings[listings['room_type'] == 'private room'].shape[0]\n\n# # What is the average listing price?\n# # To convert price to numeric, remove \" dollars\" from each value\n# listings['price_clean'] = listings['price'].str.replace(' dollars', '').astype(float)\n# avg_price = listings['price_clean'].mean()\n\n# review_dates = pd.DataFrame({\n#     'first_reviewed': [first_reviewed],\n#     'last_reviewed': [last_reviewed],\n#     'nb_private_rooms': [private_room_count],\n#     'avg_price': [round(avg_price, 2)]\n# })\n\n# print(review_dates)\n",
    "outputsMetadata": {
     "0": {
      "height": 57,
      "type": "stream"
     }
    }
   },
   "outputs": [],
   "source": [
    "# # Import necessary packages\n",
    "# import pandas as pd\n",
    "# import numpy as np\n",
    "\n",
    "# # Import CSV for prices\n",
    "# airbnb_price = pd.read_csv('data/airbnb_price.csv')\n",
    "\n",
    "# # Import Excel file for room types\n",
    "# airbnb_room_type = pd.read_excel('data/airbnb_room_type.xlsx')\n",
    "\n",
    "# # Import TSV for review dates\n",
    "# airbnb_last_review = pd.read_csv('data/airbnb_last_review.tsv', sep='\\t')\n",
    "\n",
    "# # Join the three data frames together into one\n",
    "# listings = pd.merge(airbnb_price, airbnb_room_type, on='listing_id')\n",
    "# listings = pd.merge(listings, airbnb_last_review, on='listing_id')\n",
    "\n",
    "# # What are the dates of the earliest and most recent reviews?\n",
    "# # To use a function like max()/min() on last_review date column, it needs to be converted to datetime type\n",
    "# listings['last_review_date'] = pd.to_datetime(listings['last_review'], format='%B %d %Y')\n",
    "# first_reviewed = listings['last_review_date'].min()\n",
    "# last_reviewed = listings['last_review_date'].max()\n",
    "\n",
    "# # How many of the listings are private rooms?\n",
    "# # Since there are differences in capitalization, make capitalization consistent\n",
    "# listings['room_type'] = listings['room_type'].str.lower()\n",
    "# private_room_count = listings[listings['room_type'] == 'private room'].shape[0]\n",
    "\n",
    "# # What is the average listing price?\n",
    "# # To convert price to numeric, remove \" dollars\" from each value\n",
    "# listings['price_clean'] = listings['price'].str.replace(' dollars', '').astype(float)\n",
    "# avg_price = listings['price_clean'].mean()\n",
    "\n",
    "# review_dates = pd.DataFrame({\n",
    "#     'first_reviewed': [first_reviewed],\n",
    "#     'last_reviewed': [last_reviewed],\n",
    "#     'nb_private_rooms': [private_room_count],\n",
    "#     'avg_price': [round(avg_price, 2)]\n",
    "# })\n",
    "\n",
    "# print(review_dates)\n"
   ]
  },
  {
   "cell_type": "code",
   "execution_count": 98,
   "id": "4a9b6089-5907-4d3d-b3b3-c4ed20057149",
   "metadata": {
    "executionCancelledAt": null,
    "executionTime": 47,
    "lastExecutedAt": 1706801200666,
    "lastScheduledRunId": null,
    "lastSuccessfullyExecutedCode": ""
   },
   "outputs": [],
   "source": []
  }
 ],
 "metadata": {
  "colab": {
   "name": "Welcome to DataCamp Workspaces.ipynb",
   "provenance": []
  },
  "kernelspec": {
   "display_name": "Python 3 (ipykernel)",
   "language": "python",
   "name": "python3"
  },
  "language_info": {
   "codemirror_mode": {
    "name": "ipython",
    "version": 3
   },
   "file_extension": ".py",
   "mimetype": "text/x-python",
   "name": "python",
   "nbconvert_exporter": "python",
   "pygments_lexer": "ipython3",
   "version": "3.11.4"
  }
 },
 "nbformat": 4,
 "nbformat_minor": 5
}
